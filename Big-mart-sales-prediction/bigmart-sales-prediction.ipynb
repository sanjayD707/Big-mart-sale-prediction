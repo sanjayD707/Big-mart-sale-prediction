{
 "cells": [
  {
   "cell_type": "markdown",
   "metadata": {
    "_cell_guid": "fe3311e1-0b37-451a-a56d-37aa37b0bd77",
    "_uuid": "7867977d-e7a3-40ae-87ab-632de73bbc1f"
   },
   "source": [
    "# Importing Libraries"
   ]
  },
  {
   "cell_type": "code",
   "execution_count": null,
   "metadata": {
    "_cell_guid": "36f91896-3dd8-4aa8-89af-ca6a75ae3f43",
    "_uuid": "b222afc3-fb80-4b68-b854-c07a20743620",
    "jupyter": {
     "outputs_hidden": false
    }
   },
   "outputs": [],
   "source": []
  },
  {
   "cell_type": "code",
   "execution_count": 9,
   "metadata": {
    "_cell_guid": "1971c579-4dd5-450b-96cd-92a264c8d4eb",
    "_uuid": "642e49e3-8c45-4dc8-b492-82ff1e432a99",
    "jupyter": {
     "outputs_hidden": false
    }
   },
   "outputs": [],
   "source": [
    "#pip install xgboost\n"
   ]
  },
  {
   "cell_type": "code",
   "execution_count": 10,
   "metadata": {
    "_cell_guid": "5fb40986-948d-40ba-9d48-69251dff20ea",
    "_uuid": "90cafe8d-ae3a-461c-b20c-b1b23f947403",
    "execution": {
     "iopub.execute_input": "2021-11-17T17:27:15.468980Z",
     "iopub.status.busy": "2021-11-17T17:27:15.468554Z",
     "iopub.status.idle": "2021-11-17T17:27:17.834751Z",
     "shell.execute_reply": "2021-11-17T17:27:17.833805Z",
     "shell.execute_reply.started": "2021-11-17T17:27:15.468894Z"
    },
    "jupyter": {
     "outputs_hidden": false
    }
   },
   "outputs": [],
   "source": [
    "import pandas as pd\n",
    "import numpy as np\n",
    "import matplotlib.pyplot as plt\n",
    "import seaborn as sns\n",
    "from scipy import stats\n",
    "import xgboost\n",
    "\n",
    "#for Spliting Data and Hyperparameter Tuning \n",
    "from sklearn.model_selection import train_test_split,GridSearchCV\n",
    "\n",
    "#Importing Machine Learning Model\n",
    "#from catboost import CatBoostRegressor\n",
    "#from ngboost import NGBRegressor\n",
    "from sklearn import ensemble\n",
    "from sklearn.linear_model import LinearRegression\n",
    "from xgboost import XGBRFRegressor\n",
    "from sklearn.tree import DecisionTreeRegressor\n",
    "from sklearn.neighbors import KNeighborsRegressor\n",
    "from sklearn.neural_network import MLPRegressor\n",
    "from sklearn.svm import SVR\n",
    "#from lightgbm import LGBMRegressor\n",
    "\n",
    "#statistical Tools\n",
    "from sklearn import metrics"
   ]
  },
  {
   "cell_type": "markdown",
   "metadata": {
    "_cell_guid": "3a4570b9-a160-4fb7-97d6-7a8568a14447",
    "_uuid": "2bd457b5-1b4f-45a4-886c-a9cb12c84373"
   },
   "source": [
    "# Reading CSV Files"
   ]
  },
  {
   "cell_type": "code",
   "execution_count": 11,
   "metadata": {
    "_cell_guid": "6b69801c-9337-41ef-b4f4-70529dbacde7",
    "_uuid": "151ee81c-f5df-4499-99a5-8899b3cc813c",
    "execution": {
     "iopub.execute_input": "2021-11-17T17:27:17.836701Z",
     "iopub.status.busy": "2021-11-17T17:27:17.836408Z",
     "iopub.status.idle": "2021-11-17T17:27:17.900331Z",
     "shell.execute_reply": "2021-11-17T17:27:17.899401Z",
     "shell.execute_reply.started": "2021-11-17T17:27:17.836666Z"
    },
    "jupyter": {
     "outputs_hidden": false
    }
   },
   "outputs": [],
   "source": [
    "test=pd.read_csv(\"test.csv\")\n",
    "train=pd.read_csv(\"train.csv\")"
   ]
  },
  {
   "cell_type": "code",
   "execution_count": 12,
   "metadata": {
    "_cell_guid": "c84047e9-f9af-4f50-9968-6e71a844c782",
    "_uuid": "84855a8f-9574-4d70-a950-8ed2c2888325",
    "execution": {
     "iopub.execute_input": "2021-11-17T17:27:17.902092Z",
     "iopub.status.busy": "2021-11-17T17:27:17.901820Z",
     "iopub.status.idle": "2021-11-17T17:27:17.929670Z",
     "shell.execute_reply": "2021-11-17T17:27:17.928954Z",
     "shell.execute_reply.started": "2021-11-17T17:27:17.902067Z"
    },
    "jupyter": {
     "outputs_hidden": false
    }
   },
   "outputs": [
    {
     "data": {
      "text/html": [
       "<div>\n",
       "<style scoped>\n",
       "    .dataframe tbody tr th:only-of-type {\n",
       "        vertical-align: middle;\n",
       "    }\n",
       "\n",
       "    .dataframe tbody tr th {\n",
       "        vertical-align: top;\n",
       "    }\n",
       "\n",
       "    .dataframe thead th {\n",
       "        text-align: right;\n",
       "    }\n",
       "</style>\n",
       "<table border=\"1\" class=\"dataframe\">\n",
       "  <thead>\n",
       "    <tr style=\"text-align: right;\">\n",
       "      <th></th>\n",
       "      <th>Item_Identifier</th>\n",
       "      <th>Item_Weight</th>\n",
       "      <th>Item_Fat_Content</th>\n",
       "      <th>Item_Visibility</th>\n",
       "      <th>Item_Type</th>\n",
       "      <th>Item_MRP</th>\n",
       "      <th>Outlet_Identifier</th>\n",
       "      <th>Outlet_Establishment_Year</th>\n",
       "      <th>Outlet_Size</th>\n",
       "      <th>Outlet_Location_Type</th>\n",
       "      <th>Outlet_Type</th>\n",
       "    </tr>\n",
       "  </thead>\n",
       "  <tbody>\n",
       "    <tr>\n",
       "      <th>0</th>\n",
       "      <td>FDW58</td>\n",
       "      <td>20.750</td>\n",
       "      <td>Low Fat</td>\n",
       "      <td>0.007565</td>\n",
       "      <td>Snack Foods</td>\n",
       "      <td>107.8622</td>\n",
       "      <td>OUT049</td>\n",
       "      <td>1999</td>\n",
       "      <td>Medium</td>\n",
       "      <td>Tier 1</td>\n",
       "      <td>Supermarket Type1</td>\n",
       "    </tr>\n",
       "    <tr>\n",
       "      <th>1</th>\n",
       "      <td>FDW14</td>\n",
       "      <td>8.300</td>\n",
       "      <td>reg</td>\n",
       "      <td>0.038428</td>\n",
       "      <td>Dairy</td>\n",
       "      <td>87.3198</td>\n",
       "      <td>OUT017</td>\n",
       "      <td>2007</td>\n",
       "      <td>NaN</td>\n",
       "      <td>Tier 2</td>\n",
       "      <td>Supermarket Type1</td>\n",
       "    </tr>\n",
       "    <tr>\n",
       "      <th>2</th>\n",
       "      <td>NCN55</td>\n",
       "      <td>14.600</td>\n",
       "      <td>Low Fat</td>\n",
       "      <td>0.099575</td>\n",
       "      <td>Others</td>\n",
       "      <td>241.7538</td>\n",
       "      <td>OUT010</td>\n",
       "      <td>1998</td>\n",
       "      <td>NaN</td>\n",
       "      <td>Tier 3</td>\n",
       "      <td>Grocery Store</td>\n",
       "    </tr>\n",
       "    <tr>\n",
       "      <th>3</th>\n",
       "      <td>FDQ58</td>\n",
       "      <td>7.315</td>\n",
       "      <td>Low Fat</td>\n",
       "      <td>0.015388</td>\n",
       "      <td>Snack Foods</td>\n",
       "      <td>155.0340</td>\n",
       "      <td>OUT017</td>\n",
       "      <td>2007</td>\n",
       "      <td>NaN</td>\n",
       "      <td>Tier 2</td>\n",
       "      <td>Supermarket Type1</td>\n",
       "    </tr>\n",
       "    <tr>\n",
       "      <th>4</th>\n",
       "      <td>FDY38</td>\n",
       "      <td>NaN</td>\n",
       "      <td>Regular</td>\n",
       "      <td>0.118599</td>\n",
       "      <td>Dairy</td>\n",
       "      <td>234.2300</td>\n",
       "      <td>OUT027</td>\n",
       "      <td>1985</td>\n",
       "      <td>Medium</td>\n",
       "      <td>Tier 3</td>\n",
       "      <td>Supermarket Type3</td>\n",
       "    </tr>\n",
       "  </tbody>\n",
       "</table>\n",
       "</div>"
      ],
      "text/plain": [
       "  Item_Identifier  Item_Weight Item_Fat_Content  Item_Visibility    Item_Type  \\\n",
       "0           FDW58       20.750          Low Fat         0.007565  Snack Foods   \n",
       "1           FDW14        8.300              reg         0.038428        Dairy   \n",
       "2           NCN55       14.600          Low Fat         0.099575       Others   \n",
       "3           FDQ58        7.315          Low Fat         0.015388  Snack Foods   \n",
       "4           FDY38          NaN          Regular         0.118599        Dairy   \n",
       "\n",
       "   Item_MRP Outlet_Identifier  Outlet_Establishment_Year Outlet_Size  \\\n",
       "0  107.8622            OUT049                       1999      Medium   \n",
       "1   87.3198            OUT017                       2007         NaN   \n",
       "2  241.7538            OUT010                       1998         NaN   \n",
       "3  155.0340            OUT017                       2007         NaN   \n",
       "4  234.2300            OUT027                       1985      Medium   \n",
       "\n",
       "  Outlet_Location_Type        Outlet_Type  \n",
       "0               Tier 1  Supermarket Type1  \n",
       "1               Tier 2  Supermarket Type1  \n",
       "2               Tier 3      Grocery Store  \n",
       "3               Tier 2  Supermarket Type1  \n",
       "4               Tier 3  Supermarket Type3  "
      ]
     },
     "execution_count": 12,
     "metadata": {},
     "output_type": "execute_result"
    }
   ],
   "source": [
    "test.head()"
   ]
  },
  {
   "cell_type": "code",
   "execution_count": 13,
   "metadata": {
    "_cell_guid": "214b6166-9260-4ac1-a233-0d3a17ac2bf7",
    "_uuid": "19a312d2-7a0b-49eb-b244-f23c49d84534",
    "execution": {
     "iopub.execute_input": "2021-11-17T17:27:17.931243Z",
     "iopub.status.busy": "2021-11-17T17:27:17.930874Z",
     "iopub.status.idle": "2021-11-17T17:27:17.949678Z",
     "shell.execute_reply": "2021-11-17T17:27:17.949014Z",
     "shell.execute_reply.started": "2021-11-17T17:27:17.931217Z"
    },
    "jupyter": {
     "outputs_hidden": false
    }
   },
   "outputs": [
    {
     "data": {
      "text/html": [
       "<div>\n",
       "<style scoped>\n",
       "    .dataframe tbody tr th:only-of-type {\n",
       "        vertical-align: middle;\n",
       "    }\n",
       "\n",
       "    .dataframe tbody tr th {\n",
       "        vertical-align: top;\n",
       "    }\n",
       "\n",
       "    .dataframe thead th {\n",
       "        text-align: right;\n",
       "    }\n",
       "</style>\n",
       "<table border=\"1\" class=\"dataframe\">\n",
       "  <thead>\n",
       "    <tr style=\"text-align: right;\">\n",
       "      <th></th>\n",
       "      <th>Item_Identifier</th>\n",
       "      <th>Item_Weight</th>\n",
       "      <th>Item_Fat_Content</th>\n",
       "      <th>Item_Visibility</th>\n",
       "      <th>Item_Type</th>\n",
       "      <th>Item_MRP</th>\n",
       "      <th>Outlet_Identifier</th>\n",
       "      <th>Outlet_Establishment_Year</th>\n",
       "      <th>Outlet_Size</th>\n",
       "      <th>Outlet_Location_Type</th>\n",
       "      <th>Outlet_Type</th>\n",
       "      <th>Item_Outlet_Sales</th>\n",
       "    </tr>\n",
       "  </thead>\n",
       "  <tbody>\n",
       "    <tr>\n",
       "      <th>0</th>\n",
       "      <td>FDA15</td>\n",
       "      <td>9.30</td>\n",
       "      <td>Low Fat</td>\n",
       "      <td>0.016047</td>\n",
       "      <td>Dairy</td>\n",
       "      <td>249.8092</td>\n",
       "      <td>OUT049</td>\n",
       "      <td>1999</td>\n",
       "      <td>Medium</td>\n",
       "      <td>Tier 1</td>\n",
       "      <td>Supermarket Type1</td>\n",
       "      <td>3735.1380</td>\n",
       "    </tr>\n",
       "    <tr>\n",
       "      <th>1</th>\n",
       "      <td>DRC01</td>\n",
       "      <td>5.92</td>\n",
       "      <td>Regular</td>\n",
       "      <td>0.019278</td>\n",
       "      <td>Soft Drinks</td>\n",
       "      <td>48.2692</td>\n",
       "      <td>OUT018</td>\n",
       "      <td>2009</td>\n",
       "      <td>Medium</td>\n",
       "      <td>Tier 3</td>\n",
       "      <td>Supermarket Type2</td>\n",
       "      <td>443.4228</td>\n",
       "    </tr>\n",
       "    <tr>\n",
       "      <th>2</th>\n",
       "      <td>FDN15</td>\n",
       "      <td>17.50</td>\n",
       "      <td>Low Fat</td>\n",
       "      <td>0.016760</td>\n",
       "      <td>Meat</td>\n",
       "      <td>141.6180</td>\n",
       "      <td>OUT049</td>\n",
       "      <td>1999</td>\n",
       "      <td>Medium</td>\n",
       "      <td>Tier 1</td>\n",
       "      <td>Supermarket Type1</td>\n",
       "      <td>2097.2700</td>\n",
       "    </tr>\n",
       "    <tr>\n",
       "      <th>3</th>\n",
       "      <td>FDX07</td>\n",
       "      <td>19.20</td>\n",
       "      <td>Regular</td>\n",
       "      <td>0.000000</td>\n",
       "      <td>Fruits and Vegetables</td>\n",
       "      <td>182.0950</td>\n",
       "      <td>OUT010</td>\n",
       "      <td>1998</td>\n",
       "      <td>NaN</td>\n",
       "      <td>Tier 3</td>\n",
       "      <td>Grocery Store</td>\n",
       "      <td>732.3800</td>\n",
       "    </tr>\n",
       "    <tr>\n",
       "      <th>4</th>\n",
       "      <td>NCD19</td>\n",
       "      <td>8.93</td>\n",
       "      <td>Low Fat</td>\n",
       "      <td>0.000000</td>\n",
       "      <td>Household</td>\n",
       "      <td>53.8614</td>\n",
       "      <td>OUT013</td>\n",
       "      <td>1987</td>\n",
       "      <td>High</td>\n",
       "      <td>Tier 3</td>\n",
       "      <td>Supermarket Type1</td>\n",
       "      <td>994.7052</td>\n",
       "    </tr>\n",
       "  </tbody>\n",
       "</table>\n",
       "</div>"
      ],
      "text/plain": [
       "  Item_Identifier  Item_Weight Item_Fat_Content  Item_Visibility  \\\n",
       "0           FDA15         9.30          Low Fat         0.016047   \n",
       "1           DRC01         5.92          Regular         0.019278   \n",
       "2           FDN15        17.50          Low Fat         0.016760   \n",
       "3           FDX07        19.20          Regular         0.000000   \n",
       "4           NCD19         8.93          Low Fat         0.000000   \n",
       "\n",
       "               Item_Type  Item_MRP Outlet_Identifier  \\\n",
       "0                  Dairy  249.8092            OUT049   \n",
       "1            Soft Drinks   48.2692            OUT018   \n",
       "2                   Meat  141.6180            OUT049   \n",
       "3  Fruits and Vegetables  182.0950            OUT010   \n",
       "4              Household   53.8614            OUT013   \n",
       "\n",
       "   Outlet_Establishment_Year Outlet_Size Outlet_Location_Type  \\\n",
       "0                       1999      Medium               Tier 1   \n",
       "1                       2009      Medium               Tier 3   \n",
       "2                       1999      Medium               Tier 1   \n",
       "3                       1998         NaN               Tier 3   \n",
       "4                       1987        High               Tier 3   \n",
       "\n",
       "         Outlet_Type  Item_Outlet_Sales  \n",
       "0  Supermarket Type1          3735.1380  \n",
       "1  Supermarket Type2           443.4228  \n",
       "2  Supermarket Type1          2097.2700  \n",
       "3      Grocery Store           732.3800  \n",
       "4  Supermarket Type1           994.7052  "
      ]
     },
     "execution_count": 13,
     "metadata": {},
     "output_type": "execute_result"
    }
   ],
   "source": [
    "train.head()"
   ]
  },
  {
   "cell_type": "code",
   "execution_count": 14,
   "metadata": {
    "_cell_guid": "5d46e738-3be9-48e8-ae77-93a85175d321",
    "_uuid": "aa550fd2-c84d-4889-b1fc-b29d4e37c374",
    "execution": {
     "iopub.execute_input": "2021-11-17T17:27:17.950991Z",
     "iopub.status.busy": "2021-11-17T17:27:17.950601Z",
     "iopub.status.idle": "2021-11-17T17:27:17.971416Z",
     "shell.execute_reply": "2021-11-17T17:27:17.970796Z",
     "shell.execute_reply.started": "2021-11-17T17:27:17.950961Z"
    },
    "jupyter": {
     "outputs_hidden": false
    }
   },
   "outputs": [
    {
     "name": "stdout",
     "output_type": "stream",
     "text": [
      "<class 'pandas.core.frame.DataFrame'>\n",
      "RangeIndex: 8523 entries, 0 to 8522\n",
      "Data columns (total 12 columns):\n",
      " #   Column                     Non-Null Count  Dtype  \n",
      "---  ------                     --------------  -----  \n",
      " 0   Item_Identifier            8523 non-null   object \n",
      " 1   Item_Weight                7060 non-null   float64\n",
      " 2   Item_Fat_Content           8523 non-null   object \n",
      " 3   Item_Visibility            8523 non-null   float64\n",
      " 4   Item_Type                  8523 non-null   object \n",
      " 5   Item_MRP                   8523 non-null   float64\n",
      " 6   Outlet_Identifier          8523 non-null   object \n",
      " 7   Outlet_Establishment_Year  8523 non-null   int64  \n",
      " 8   Outlet_Size                6113 non-null   object \n",
      " 9   Outlet_Location_Type       8523 non-null   object \n",
      " 10  Outlet_Type                8523 non-null   object \n",
      " 11  Item_Outlet_Sales          8523 non-null   float64\n",
      "dtypes: float64(4), int64(1), object(7)\n",
      "memory usage: 799.2+ KB\n"
     ]
    }
   ],
   "source": [
    "train.info()"
   ]
  },
  {
   "cell_type": "markdown",
   "metadata": {
    "_cell_guid": "b8697448-5b56-4555-ab98-d48a485235a9",
    "_uuid": "dc707fa4-7ed5-47a4-ab24-438acf8ea4d2"
   },
   "source": [
    "# Removing columns with alot of null values"
   ]
  },
  {
   "cell_type": "code",
   "execution_count": 15,
   "metadata": {
    "_cell_guid": "8a2714e4-2835-4cdd-892e-d13ea2e30d62",
    "_uuid": "843c6d85-f769-4b99-b452-20a667a16463",
    "execution": {
     "iopub.execute_input": "2021-11-17T17:27:17.972613Z",
     "iopub.status.busy": "2021-11-17T17:27:17.972265Z",
     "iopub.status.idle": "2021-11-17T17:27:17.976447Z",
     "shell.execute_reply": "2021-11-17T17:27:17.975464Z",
     "shell.execute_reply.started": "2021-11-17T17:27:17.972586Z"
    },
    "jupyter": {
     "outputs_hidden": false
    }
   },
   "outputs": [],
   "source": [
    "import seaborn as sns"
   ]
  },
  {
   "cell_type": "code",
   "execution_count": 16,
   "metadata": {
    "_cell_guid": "056bd758-897b-462f-a922-d527a339a856",
    "_uuid": "4ec204de-4803-426a-a634-2778facc876a",
    "execution": {
     "iopub.execute_input": "2021-11-17T17:27:17.977864Z",
     "iopub.status.busy": "2021-11-17T17:27:17.977584Z",
     "iopub.status.idle": "2021-11-17T17:27:18.520449Z",
     "shell.execute_reply": "2021-11-17T17:27:18.519370Z",
     "shell.execute_reply.started": "2021-11-17T17:27:17.977838Z"
    },
    "jupyter": {
     "outputs_hidden": false
    }
   },
   "outputs": [
    {
     "data": {
      "text/plain": [
       "<AxesSubplot:>"
      ]
     },
     "execution_count": 16,
     "metadata": {},
     "output_type": "execute_result"
    },
    {
     "data": {
      "image/png": "[encoded data removed]",
      "text/plain": [
       "<Figure size 432x288 with 2 Axes>"
      ]
     },
     "metadata": {
      "needs_background": "light"
     },
     "output_type": "display_data"
    }
   ],
   "source": [
    "sns.heatmap(train.isnull())"
   ]
  },
  {
   "cell_type": "code",
   "execution_count": 17,
   "metadata": {
    "_cell_guid": "8a62ea21-b03a-4bad-a51b-36286adef42d",
    "_uuid": "40af36e4-02d3-42d1-84d4-dae55b450400",
    "execution": {
     "iopub.execute_input": "2021-11-17T17:27:18.524553Z",
     "iopub.status.busy": "2021-11-17T17:27:18.523890Z",
     "iopub.status.idle": "2021-11-17T17:27:18.529337Z",
     "shell.execute_reply": "2021-11-17T17:27:18.528482Z",
     "shell.execute_reply.started": "2021-11-17T17:27:18.524508Z"
    },
    "jupyter": {
     "outputs_hidden": false
    }
   },
   "outputs": [],
   "source": [
    "df=pd.DataFrame(train)"
   ]
  },
  {
   "cell_type": "code",
   "execution_count": 18,
   "metadata": {
    "_cell_guid": "d548a5d7-da30-49f7-ab03-a7800c2b54b3",
    "_uuid": "e2e1b53a-8743-4427-93b0-11ed640ab2fc",
    "execution": {
     "iopub.execute_input": "2021-11-17T17:27:18.531158Z",
     "iopub.status.busy": "2021-11-17T17:27:18.530907Z",
     "iopub.status.idle": "2021-11-17T17:27:18.544018Z",
     "shell.execute_reply": "2021-11-17T17:27:18.542992Z",
     "shell.execute_reply.started": "2021-11-17T17:27:18.531135Z"
    },
    "jupyter": {
     "outputs_hidden": false
    }
   },
   "outputs": [],
   "source": [
    "df.drop(\"Outlet_Size\",axis=1,inplace=True)"
   ]
  },
  {
   "cell_type": "code",
   "execution_count": 19,
   "metadata": {
    "_cell_guid": "c2f3c76d-be89-4a00-b617-d4c7d152bb24",
    "_uuid": "c9774524-43da-41a1-b8b5-5ef7ef3042df",
    "execution": {
     "iopub.execute_input": "2021-11-17T17:27:18.545827Z",
     "iopub.status.busy": "2021-11-17T17:27:18.545401Z",
     "iopub.status.idle": "2021-11-17T17:27:18.553674Z",
     "shell.execute_reply": "2021-11-17T17:27:18.553018Z",
     "shell.execute_reply.started": "2021-11-17T17:27:18.545794Z"
    },
    "jupyter": {
     "outputs_hidden": false
    }
   },
   "outputs": [],
   "source": [
    "df.drop(\"Item_Weight\",axis=1,inplace=True)"
   ]
  },
  {
   "cell_type": "code",
   "execution_count": null,
   "metadata": {
    "_cell_guid": "b1dc7edc-70bd-4909-91be-219f463c0d12",
    "_uuid": "69a91c06-d2af-43db-9a8b-7cd8a9160bd4",
    "jupyter": {
     "outputs_hidden": false
    }
   },
   "outputs": [],
   "source": []
  },
  {
   "cell_type": "code",
   "execution_count": 20,
   "metadata": {
    "_cell_guid": "9db3f638-94d5-4011-8fe5-e95a006699fd",
    "_uuid": "d15d00a2-1d8c-4747-a6c1-8400ba3f9837",
    "execution": {
     "iopub.execute_input": "2021-11-17T17:27:18.555406Z",
     "iopub.status.busy": "2021-11-17T17:27:18.554867Z",
     "iopub.status.idle": "2021-11-17T17:27:18.575795Z",
     "shell.execute_reply": "2021-11-17T17:27:18.574797Z",
     "shell.execute_reply.started": "2021-11-17T17:27:18.555366Z"
    },
    "jupyter": {
     "outputs_hidden": false
    }
   },
   "outputs": [
    {
     "data": {
      "text/html": [
       "<div>\n",
       "<style scoped>\n",
       "    .dataframe tbody tr th:only-of-type {\n",
       "        vertical-align: middle;\n",
       "    }\n",
       "\n",
       "    .dataframe tbody tr th {\n",
       "        vertical-align: top;\n",
       "    }\n",
       "\n",
       "    .dataframe thead th {\n",
       "        text-align: right;\n",
       "    }\n",
       "</style>\n",
       "<table border=\"1\" class=\"dataframe\">\n",
       "  <thead>\n",
       "    <tr style=\"text-align: right;\">\n",
       "      <th></th>\n",
       "      <th>Item_Identifier</th>\n",
       "      <th>Item_Fat_Content</th>\n",
       "      <th>Item_Visibility</th>\n",
       "      <th>Item_Type</th>\n",
       "      <th>Item_MRP</th>\n",
       "      <th>Outlet_Identifier</th>\n",
       "      <th>Outlet_Establishment_Year</th>\n",
       "      <th>Outlet_Location_Type</th>\n",
       "      <th>Outlet_Type</th>\n",
       "      <th>Item_Outlet_Sales</th>\n",
       "    </tr>\n",
       "  </thead>\n",
       "  <tbody>\n",
       "    <tr>\n",
       "      <th>0</th>\n",
       "      <td>FDA15</td>\n",
       "      <td>Low Fat</td>\n",
       "      <td>0.016047</td>\n",
       "      <td>Dairy</td>\n",
       "      <td>249.8092</td>\n",
       "      <td>OUT049</td>\n",
       "      <td>1999</td>\n",
       "      <td>Tier 1</td>\n",
       "      <td>Supermarket Type1</td>\n",
       "      <td>3735.1380</td>\n",
       "    </tr>\n",
       "    <tr>\n",
       "      <th>1</th>\n",
       "      <td>DRC01</td>\n",
       "      <td>Regular</td>\n",
       "      <td>0.019278</td>\n",
       "      <td>Soft Drinks</td>\n",
       "      <td>48.2692</td>\n",
       "      <td>OUT018</td>\n",
       "      <td>2009</td>\n",
       "      <td>Tier 3</td>\n",
       "      <td>Supermarket Type2</td>\n",
       "      <td>443.4228</td>\n",
       "    </tr>\n",
       "    <tr>\n",
       "      <th>2</th>\n",
       "      <td>FDN15</td>\n",
       "      <td>Low Fat</td>\n",
       "      <td>0.016760</td>\n",
       "      <td>Meat</td>\n",
       "      <td>141.6180</td>\n",
       "      <td>OUT049</td>\n",
       "      <td>1999</td>\n",
       "      <td>Tier 1</td>\n",
       "      <td>Supermarket Type1</td>\n",
       "      <td>2097.2700</td>\n",
       "    </tr>\n",
       "    <tr>\n",
       "      <th>3</th>\n",
       "      <td>FDX07</td>\n",
       "      <td>Regular</td>\n",
       "      <td>0.000000</td>\n",
       "      <td>Fruits and Vegetables</td>\n",
       "      <td>182.0950</td>\n",
       "      <td>OUT010</td>\n",
       "      <td>1998</td>\n",
       "      <td>Tier 3</td>\n",
       "      <td>Grocery Store</td>\n",
       "      <td>732.3800</td>\n",
       "    </tr>\n",
       "    <tr>\n",
       "      <th>4</th>\n",
       "      <td>NCD19</td>\n",
       "      <td>Low Fat</td>\n",
       "      <td>0.000000</td>\n",
       "      <td>Household</td>\n",
       "      <td>53.8614</td>\n",
       "      <td>OUT013</td>\n",
       "      <td>1987</td>\n",
       "      <td>Tier 3</td>\n",
       "      <td>Supermarket Type1</td>\n",
       "      <td>994.7052</td>\n",
       "    </tr>\n",
       "  </tbody>\n",
       "</table>\n",
       "</div>"
      ],
      "text/plain": [
       "  Item_Identifier Item_Fat_Content  Item_Visibility              Item_Type  \\\n",
       "0           FDA15          Low Fat         0.016047                  Dairy   \n",
       "1           DRC01          Regular         0.019278            Soft Drinks   \n",
       "2           FDN15          Low Fat         0.016760                   Meat   \n",
       "3           FDX07          Regular         0.000000  Fruits and Vegetables   \n",
       "4           NCD19          Low Fat         0.000000              Household   \n",
       "\n",
       "   Item_MRP Outlet_Identifier  Outlet_Establishment_Year Outlet_Location_Type  \\\n",
       "0  249.8092            OUT049                       1999               Tier 1   \n",
       "1   48.2692            OUT018                       2009               Tier 3   \n",
       "2  141.6180            OUT049                       1999               Tier 1   \n",
       "3  182.0950            OUT010                       1998               Tier 3   \n",
       "4   53.8614            OUT013                       1987               Tier 3   \n",
       "\n",
       "         Outlet_Type  Item_Outlet_Sales  \n",
       "0  Supermarket Type1          3735.1380  \n",
       "1  Supermarket Type2           443.4228  \n",
       "2  Supermarket Type1          2097.2700  \n",
       "3      Grocery Store           732.3800  \n",
       "4  Supermarket Type1           994.7052  "
      ]
     },
     "execution_count": 20,
     "metadata": {},
     "output_type": "execute_result"
    }
   ],
   "source": [
    "df.head()"
   ]
  },
  {
   "cell_type": "code",
   "execution_count": 21,
   "metadata": {
    "_cell_guid": "6aef235c-d163-4e4a-9ee1-074a11fcdad6",
    "_uuid": "7bdfa2de-1632-4f55-b640-a0097aaacaa6",
    "execution": {
     "iopub.execute_input": "2021-11-17T17:27:18.577543Z",
     "iopub.status.busy": "2021-11-17T17:27:18.577208Z",
     "iopub.status.idle": "2021-11-17T17:27:18.580906Z",
     "shell.execute_reply": "2021-11-17T17:27:18.579993Z",
     "shell.execute_reply.started": "2021-11-17T17:27:18.577513Z"
    },
    "jupyter": {
     "outputs_hidden": false
    }
   },
   "outputs": [],
   "source": [
    "#sns.heatmap(df.isnull())"
   ]
  },
  {
   "cell_type": "markdown",
   "metadata": {
    "_cell_guid": "9082d120-e731-465e-a38e-dd0b59cd45b7",
    "_uuid": "9a62bccc-5eca-4e80-83a9-52359cf264f3"
   },
   "source": [
    "# Exploring  each variable"
   ]
  },
  {
   "cell_type": "markdown",
   "metadata": {
    "_cell_guid": "0bc44810-ff69-440a-a5f3-15aed51078ca",
    "_uuid": "61531c0e-61e1-440b-a328-04925f999753"
   },
   "source": [
    "* Variable--   Description\n",
    "* Item_Identifier--  Unique product ID\n",
    "* Item_Weight-- Weight of product\n",
    "* Item_Fat_Content--  Whether the product is low fat or not\n",
    "* Item_Visibility--  The % of total display area of all products in a store allocated to the particular product\n",
    "* Item_Type--  The category to which the product belongs\n",
    "* Item_MRP--  Maximum Retail Price (list price) of the product\n",
    "* Outlet_Identifier--  Unique store ID\n",
    "* Outlet_Establishment_Year--  The year in which store was established\n",
    "* Outlet_Size--  The size of the store in terms of ground area covered\n",
    "* Outlet_Location_Type--  The type of city in which the store is located\n",
    "* Outlet_Type--  Whether the outlet is just a grocery store or some sort of supermarket\n",
    "*  Item_Outlet_Sales--  Sales of the product in the particular store. This is the outcome variable to be predicted."
   ]
  },
  {
   "cell_type": "markdown",
   "metadata": {
    "_cell_guid": "67aa5505-4e4e-4e5f-9a66-aa6c245b7e62",
    "_uuid": "1dbb2faf-4d24-4614-86f2-ad86b0d75258"
   },
   "source": [
    "product id does not matter us i.e the column named Item_Identifier is not of use right now."
   ]
  },
  {
   "cell_type": "code",
   "execution_count": 22,
   "metadata": {
    "_cell_guid": "99c07b56-8d2e-4778-91bb-c12ccfc91ae4",
    "_uuid": "ec892525-a9af-4d8f-a8fb-9208a3af1446",
    "execution": {
     "iopub.execute_input": "2021-11-17T17:27:18.582682Z",
     "iopub.status.busy": "2021-11-17T17:27:18.582185Z",
     "iopub.status.idle": "2021-11-17T17:27:18.593711Z",
     "shell.execute_reply": "2021-11-17T17:27:18.592763Z",
     "shell.execute_reply.started": "2021-11-17T17:27:18.582643Z"
    },
    "jupyter": {
     "outputs_hidden": false
    }
   },
   "outputs": [],
   "source": [
    "df.drop(\"Item_Identifier\",inplace=True,axis=1)"
   ]
  },
  {
   "cell_type": "markdown",
   "metadata": {
    "_cell_guid": "b2e6f430-d085-4dbb-8efc-f5303f29d554",
    "_uuid": "3827de7a-d975-4f2b-aabc-54e8c0855559"
   },
   "source": [
    "item weight dropped out earlier"
   ]
  },
  {
   "cell_type": "code",
   "execution_count": 23,
   "metadata": {
    "_cell_guid": "aba77a32-ccad-4546-bd2c-43a93888dabc",
    "_uuid": "27d9d0cf-e66b-4cf1-b8c1-9682bb7b259a",
    "execution": {
     "iopub.execute_input": "2021-11-17T17:27:18.595302Z",
     "iopub.status.busy": "2021-11-17T17:27:18.594857Z",
     "iopub.status.idle": "2021-11-17T17:27:18.608250Z",
     "shell.execute_reply": "2021-11-17T17:27:18.607525Z",
     "shell.execute_reply.started": "2021-11-17T17:27:18.595270Z"
    },
    "jupyter": {
     "outputs_hidden": false
    }
   },
   "outputs": [
    {
     "name": "stdout",
     "output_type": "stream",
     "text": [
      "5\n"
     ]
    }
   ],
   "source": [
    "print(len(np.unique(df[\"Item_Fat_Content\"])))"
   ]
  },
  {
   "cell_type": "markdown",
   "metadata": {
    "_cell_guid": "6f708e6c-a1d2-46c5-9fd8-dfadc132e1d7",
    "_uuid": "0b316b49-ffb2-4c80-a48a-dad82e56b8d8"
   },
   "source": []
  },
  {
   "cell_type": "code",
   "execution_count": 24,
   "metadata": {
    "_cell_guid": "3890ce82-d753-4743-8e51-74e93ef845f0",
    "_uuid": "000147f7-a59f-440a-ad62-885312b8eedf",
    "execution": {
     "iopub.execute_input": "2021-11-17T17:27:18.609948Z",
     "iopub.status.busy": "2021-11-17T17:27:18.609486Z",
     "iopub.status.idle": "2021-11-17T17:27:18.750635Z",
     "shell.execute_reply": "2021-11-17T17:27:18.749669Z",
     "shell.execute_reply.started": "2021-11-17T17:27:18.609918Z"
    },
    "jupyter": {
     "outputs_hidden": false
    }
   },
   "outputs": [
    {
     "data": {
      "text/plain": [
       "([0, 1, 2, 3, 4],\n",
       " [Text(0, 0, ''),\n",
       "  Text(0, 0, ''),\n",
       "  Text(0, 0, ''),\n",
       "  Text(0, 0, ''),\n",
       "  Text(0, 0, '')])"
      ]
     },
     "execution_count": 24,
     "metadata": {},
     "output_type": "execute_result"
    },
    {
     "data": {
      "image/png": "[encoded data removed]",
      "text/plain": [
       "<Figure size 720x360 with 1 Axes>"
      ]
     },
     "metadata": {
      "needs_background": "light"
     },
     "output_type": "display_data"
    }
   ],
   "source": [
    "plt.figure(figsize=(10,5))\n",
    "plt.hist(x=\"Item_Fat_Content\",bins=10,data=df)\n",
    "plt.yticks(size = 20)\n",
    "plt.xticks(size = 13)"
   ]
  },
  {
   "cell_type": "code",
   "execution_count": 25,
   "metadata": {
    "_cell_guid": "4fec9055-a3ae-4ed3-b945-642e289357a6",
    "_uuid": "39c48b27-b7f5-4814-bf40-57a75fa98909",
    "execution": {
     "iopub.execute_input": "2021-11-17T17:27:18.752461Z",
     "iopub.status.busy": "2021-11-17T17:27:18.752090Z",
     "iopub.status.idle": "2021-11-17T17:27:18.761239Z",
     "shell.execute_reply": "2021-11-17T17:27:18.760223Z",
     "shell.execute_reply.started": "2021-11-17T17:27:18.752418Z"
    },
    "jupyter": {
     "outputs_hidden": false
    }
   },
   "outputs": [],
   "source": [
    "fat={\"Low Fat\":0,\"Regular\":1,\"low fat\":0,\"LF\":0,\"reg\":1}\n",
    "df.Item_Fat_Content=[fat[item]for item in df.Item_Fat_Content]"
   ]
  },
  {
   "cell_type": "code",
   "execution_count": 26,
   "metadata": {
    "_cell_guid": "2bc38838-89ea-423d-82d5-ccd6e9f9fdd5",
    "_uuid": "a5a828f8-667d-4feb-80d1-48321fc109c6",
    "execution": {
     "iopub.execute_input": "2021-11-17T17:27:18.763179Z",
     "iopub.status.busy": "2021-11-17T17:27:18.762804Z",
     "iopub.status.idle": "2021-11-17T17:27:18.926790Z",
     "shell.execute_reply": "2021-11-17T17:27:18.925829Z",
     "shell.execute_reply.started": "2021-11-17T17:27:18.763141Z"
    },
    "jupyter": {
     "outputs_hidden": false
    }
   },
   "outputs": [
    {
     "data": {
      "text/plain": [
       "(array([-0.2,  0. ,  0.2,  0.4,  0.6,  0.8,  1. ,  1.2]),\n",
       " [Text(0, 0, ''),\n",
       "  Text(0, 0, ''),\n",
       "  Text(0, 0, ''),\n",
       "  Text(0, 0, ''),\n",
       "  Text(0, 0, ''),\n",
       "  Text(0, 0, ''),\n",
       "  Text(0, 0, ''),\n",
       "  Text(0, 0, '')])"
      ]
     },
     "execution_count": 26,
     "metadata": {},
     "output_type": "execute_result"
    },
    {
     "data": {
      "image/png": "[encoded data removed]",
      "text/plain": [
       "<Figure size 720x360 with 1 Axes>"
      ]
     },
     "metadata": {
      "needs_background": "light"
     },
     "output_type": "display_data"
    }
   ],
   "source": [
    "plt.figure(figsize=(10,5))\n",
    "plt.hist(x=\"Item_Fat_Content\",bins=10,data=df)\n",
    "plt.yticks(size = 20)\n",
    "plt.xticks(size = 13)"
   ]
  },
  {
   "cell_type": "code",
   "execution_count": 27,
   "metadata": {
    "_cell_guid": "75140465-d382-44f8-8fb6-2a90c439227c",
    "_uuid": "b7de8568-1b86-43ab-ae6a-3b57830dbbb5",
    "execution": {
     "iopub.execute_input": "2021-11-17T17:27:18.928383Z",
     "iopub.status.busy": "2021-11-17T17:27:18.928098Z",
     "iopub.status.idle": "2021-11-17T17:27:19.122258Z",
     "shell.execute_reply": "2021-11-17T17:27:19.120838Z",
     "shell.execute_reply.started": "2021-11-17T17:27:18.928354Z"
    },
    "jupyter": {
     "outputs_hidden": false
    }
   },
   "outputs": [
    {
     "data": {
      "text/plain": [
       "(array([-0.05,  0.  ,  0.05,  0.1 ,  0.15,  0.2 ,  0.25,  0.3 ,  0.35]),\n",
       " [Text(0, 0, ''),\n",
       "  Text(0, 0, ''),\n",
       "  Text(0, 0, ''),\n",
       "  Text(0, 0, ''),\n",
       "  Text(0, 0, ''),\n",
       "  Text(0, 0, ''),\n",
       "  Text(0, 0, ''),\n",
       "  Text(0, 0, ''),\n",
       "  Text(0, 0, '')])"
      ]
     },
     "execution_count": 27,
     "metadata": {},
     "output_type": "execute_result"
    },
    {
     "data": {
      "image/png": "[encoded data removed]",
      "text/plain": [
       "<Figure size 2160x720 with 1 Axes>"
      ]
     },
     "metadata": {
      "needs_background": "light"
     },
     "output_type": "display_data"
    }
   ],
   "source": [
    "plt.figure(figsize=(30,10))\n",
    "plt.hist(x=\"Item_Visibility\",bins=10,data=df)\n",
    "plt.yticks(size = 20)\n",
    "plt.xticks(size = 20)"
   ]
  },
  {
   "cell_type": "code",
   "execution_count": 28,
   "metadata": {
    "_cell_guid": "09bc2f11-64d3-4ccc-a205-58cf448ae4e1",
    "_uuid": "bcee5640-fc2e-4d4a-bd10-fb126689b41d",
    "execution": {
     "iopub.execute_input": "2021-11-17T17:27:19.124251Z",
     "iopub.status.busy": "2021-11-17T17:27:19.123679Z",
     "iopub.status.idle": "2021-11-17T17:27:19.135693Z",
     "shell.execute_reply": "2021-11-17T17:27:19.134697Z",
     "shell.execute_reply.started": "2021-11-17T17:27:19.124196Z"
    },
    "jupyter": {
     "outputs_hidden": false
    }
   },
   "outputs": [
    {
     "data": {
      "text/plain": [
       "array(['Baking Goods', 'Breads', 'Breakfast', 'Canned', 'Dairy',\n",
       "       'Frozen Foods', 'Fruits and Vegetables', 'Hard Drinks',\n",
       "       'Health and Hygiene', 'Household', 'Meat', 'Others', 'Seafood',\n",
       "       'Snack Foods', 'Soft Drinks', 'Starchy Foods'], dtype=object)"
      ]
     },
     "execution_count": 28,
     "metadata": {},
     "output_type": "execute_result"
    }
   ],
   "source": [
    "np.unique(df[\"Item_Type\"])"
   ]
  },
  {
   "cell_type": "code",
   "execution_count": 29,
   "metadata": {
    "_cell_guid": "43b67f0e-0742-4aea-b554-3c6f3a630a79",
    "_uuid": "f4a0e001-ace7-4a2b-829b-7761ce07aef7",
    "execution": {
     "iopub.execute_input": "2021-11-17T17:27:19.137692Z",
     "iopub.status.busy": "2021-11-17T17:27:19.137259Z",
     "iopub.status.idle": "2021-11-17T17:27:19.153376Z",
     "shell.execute_reply": "2021-11-17T17:27:19.152377Z",
     "shell.execute_reply.started": "2021-11-17T17:27:19.137650Z"
    },
    "jupyter": {
     "outputs_hidden": false
    }
   },
   "outputs": [
    {
     "data": {
      "text/html": [
       "<div>\n",
       "<style scoped>\n",
       "    .dataframe tbody tr th:only-of-type {\n",
       "        vertical-align: middle;\n",
       "    }\n",
       "\n",
       "    .dataframe tbody tr th {\n",
       "        vertical-align: top;\n",
       "    }\n",
       "\n",
       "    .dataframe thead th {\n",
       "        text-align: right;\n",
       "    }\n",
       "</style>\n",
       "<table border=\"1\" class=\"dataframe\">\n",
       "  <thead>\n",
       "    <tr style=\"text-align: right;\">\n",
       "      <th></th>\n",
       "      <th>Item_Type</th>\n",
       "      <th>Item_Visibility</th>\n",
       "    </tr>\n",
       "  </thead>\n",
       "  <tbody>\n",
       "    <tr>\n",
       "      <th>0</th>\n",
       "      <td>Baking Goods</td>\n",
       "      <td>0.069169</td>\n",
       "    </tr>\n",
       "    <tr>\n",
       "      <th>1</th>\n",
       "      <td>Breads</td>\n",
       "      <td>0.066255</td>\n",
       "    </tr>\n",
       "    <tr>\n",
       "      <th>2</th>\n",
       "      <td>Breakfast</td>\n",
       "      <td>0.085723</td>\n",
       "    </tr>\n",
       "    <tr>\n",
       "      <th>3</th>\n",
       "      <td>Canned</td>\n",
       "      <td>0.068129</td>\n",
       "    </tr>\n",
       "    <tr>\n",
       "      <th>4</th>\n",
       "      <td>Dairy</td>\n",
       "      <td>0.072427</td>\n",
       "    </tr>\n",
       "    <tr>\n",
       "      <th>5</th>\n",
       "      <td>Frozen Foods</td>\n",
       "      <td>0.065645</td>\n",
       "    </tr>\n",
       "    <tr>\n",
       "      <th>6</th>\n",
       "      <td>Fruits and Vegetables</td>\n",
       "      <td>0.068513</td>\n",
       "    </tr>\n",
       "    <tr>\n",
       "      <th>7</th>\n",
       "      <td>Hard Drinks</td>\n",
       "      <td>0.064943</td>\n",
       "    </tr>\n",
       "    <tr>\n",
       "      <th>8</th>\n",
       "      <td>Health and Hygiene</td>\n",
       "      <td>0.055216</td>\n",
       "    </tr>\n",
       "    <tr>\n",
       "      <th>9</th>\n",
       "      <td>Household</td>\n",
       "      <td>0.061322</td>\n",
       "    </tr>\n",
       "    <tr>\n",
       "      <th>10</th>\n",
       "      <td>Meat</td>\n",
       "      <td>0.062284</td>\n",
       "    </tr>\n",
       "    <tr>\n",
       "      <th>11</th>\n",
       "      <td>Others</td>\n",
       "      <td>0.060241</td>\n",
       "    </tr>\n",
       "    <tr>\n",
       "      <th>12</th>\n",
       "      <td>Seafood</td>\n",
       "      <td>0.074976</td>\n",
       "    </tr>\n",
       "    <tr>\n",
       "      <th>13</th>\n",
       "      <td>Snack Foods</td>\n",
       "      <td>0.066850</td>\n",
       "    </tr>\n",
       "    <tr>\n",
       "      <th>14</th>\n",
       "      <td>Soft Drinks</td>\n",
       "      <td>0.063972</td>\n",
       "    </tr>\n",
       "    <tr>\n",
       "      <th>15</th>\n",
       "      <td>Starchy Foods</td>\n",
       "      <td>0.067564</td>\n",
       "    </tr>\n",
       "  </tbody>\n",
       "</table>\n",
       "</div>"
      ],
      "text/plain": [
       "                Item_Type  Item_Visibility\n",
       "0            Baking Goods         0.069169\n",
       "1                  Breads         0.066255\n",
       "2               Breakfast         0.085723\n",
       "3                  Canned         0.068129\n",
       "4                   Dairy         0.072427\n",
       "5            Frozen Foods         0.065645\n",
       "6   Fruits and Vegetables         0.068513\n",
       "7             Hard Drinks         0.064943\n",
       "8      Health and Hygiene         0.055216\n",
       "9               Household         0.061322\n",
       "10                   Meat         0.062284\n",
       "11                 Others         0.060241\n",
       "12                Seafood         0.074976\n",
       "13            Snack Foods         0.066850\n",
       "14            Soft Drinks         0.063972\n",
       "15          Starchy Foods         0.067564"
      ]
     },
     "execution_count": 29,
     "metadata": {},
     "output_type": "execute_result"
    }
   ],
   "source": [
    "temp=df.groupby('Item_Type',as_index=False)['Item_Visibility'].mean()\n",
    "temp"
   ]
  },
  {
   "cell_type": "code",
   "execution_count": 30,
   "metadata": {
    "_cell_guid": "a003646c-68e0-4295-9151-59fc81b17803",
    "_uuid": "4cefa4fb-0d71-4b88-af21-75250b12e420",
    "execution": {
     "iopub.execute_input": "2021-11-17T17:27:19.155254Z",
     "iopub.status.busy": "2021-11-17T17:27:19.154871Z",
     "iopub.status.idle": "2021-11-17T17:27:19.165661Z",
     "shell.execute_reply": "2021-11-17T17:27:19.164673Z",
     "shell.execute_reply.started": "2021-11-17T17:27:19.155206Z"
    },
    "jupyter": {
     "outputs_hidden": false
    }
   },
   "outputs": [],
   "source": [
    "itemtype={'Baking Goods':0, 'Breads':1, 'Breakfast':2, 'Canned':3, 'Dairy':4,\n",
    "       'Frozen Foods':5, 'Fruits and Vegetables':6, 'Hard Drinks':7,\n",
    "       'Health and Hygiene':12, 'Household':11, 'Meat':10, 'Others':9, 'Seafood':8,\n",
    "       'Snack Foods':13, 'Soft Drinks':14, 'Starchy Foods':15}\n",
    "df.Item_Type=[itemtype[item] for item in df.Item_Type]"
   ]
  },
  {
   "cell_type": "code",
   "execution_count": 31,
   "metadata": {
    "_cell_guid": "ac1d82e2-0990-4b56-ba3a-873c90bfa4e4",
    "_uuid": "43736b27-2c38-4eda-8a48-b494e7ce2bed",
    "execution": {
     "iopub.execute_input": "2021-11-17T17:27:19.167523Z",
     "iopub.status.busy": "2021-11-17T17:27:19.166947Z",
     "iopub.status.idle": "2021-11-17T17:27:19.177451Z",
     "shell.execute_reply": "2021-11-17T17:27:19.176814Z",
     "shell.execute_reply.started": "2021-11-17T17:27:19.167481Z"
    },
    "jupyter": {
     "outputs_hidden": false
    }
   },
   "outputs": [],
   "source": [
    "df.drop(\"Outlet_Identifier\",axis=1,inplace=True)"
   ]
  },
  {
   "cell_type": "code",
   "execution_count": 32,
   "metadata": {
    "_cell_guid": "784ce7fe-e443-4a58-9ffb-cb62c644f6b0",
    "_uuid": "052f7910-a392-421a-a789-fc4bf06ef6b1",
    "execution": {
     "iopub.execute_input": "2021-11-17T17:27:19.181657Z",
     "iopub.status.busy": "2021-11-17T17:27:19.181183Z",
     "iopub.status.idle": "2021-11-17T17:27:19.198928Z",
     "shell.execute_reply": "2021-11-17T17:27:19.198050Z",
     "shell.execute_reply.started": "2021-11-17T17:27:19.181625Z"
    },
    "jupyter": {
     "outputs_hidden": false
    }
   },
   "outputs": [
    {
     "data": {
      "text/html": [
       "<div>\n",
       "<style scoped>\n",
       "    .dataframe tbody tr th:only-of-type {\n",
       "        vertical-align: middle;\n",
       "    }\n",
       "\n",
       "    .dataframe tbody tr th {\n",
       "        vertical-align: top;\n",
       "    }\n",
       "\n",
       "    .dataframe thead th {\n",
       "        text-align: right;\n",
       "    }\n",
       "</style>\n",
       "<table border=\"1\" class=\"dataframe\">\n",
       "  <thead>\n",
       "    <tr style=\"text-align: right;\">\n",
       "      <th></th>\n",
       "      <th>Item_Fat_Content</th>\n",
       "      <th>Item_Visibility</th>\n",
       "      <th>Item_Type</th>\n",
       "      <th>Item_MRP</th>\n",
       "      <th>Outlet_Establishment_Year</th>\n",
       "      <th>Outlet_Location_Type</th>\n",
       "      <th>Outlet_Type</th>\n",
       "      <th>Item_Outlet_Sales</th>\n",
       "    </tr>\n",
       "  </thead>\n",
       "  <tbody>\n",
       "    <tr>\n",
       "      <th>0</th>\n",
       "      <td>0</td>\n",
       "      <td>0.016047</td>\n",
       "      <td>4</td>\n",
       "      <td>249.8092</td>\n",
       "      <td>1999</td>\n",
       "      <td>Tier 1</td>\n",
       "      <td>Supermarket Type1</td>\n",
       "      <td>3735.1380</td>\n",
       "    </tr>\n",
       "    <tr>\n",
       "      <th>1</th>\n",
       "      <td>1</td>\n",
       "      <td>0.019278</td>\n",
       "      <td>14</td>\n",
       "      <td>48.2692</td>\n",
       "      <td>2009</td>\n",
       "      <td>Tier 3</td>\n",
       "      <td>Supermarket Type2</td>\n",
       "      <td>443.4228</td>\n",
       "    </tr>\n",
       "    <tr>\n",
       "      <th>2</th>\n",
       "      <td>0</td>\n",
       "      <td>0.016760</td>\n",
       "      <td>10</td>\n",
       "      <td>141.6180</td>\n",
       "      <td>1999</td>\n",
       "      <td>Tier 1</td>\n",
       "      <td>Supermarket Type1</td>\n",
       "      <td>2097.2700</td>\n",
       "    </tr>\n",
       "    <tr>\n",
       "      <th>3</th>\n",
       "      <td>1</td>\n",
       "      <td>0.000000</td>\n",
       "      <td>6</td>\n",
       "      <td>182.0950</td>\n",
       "      <td>1998</td>\n",
       "      <td>Tier 3</td>\n",
       "      <td>Grocery Store</td>\n",
       "      <td>732.3800</td>\n",
       "    </tr>\n",
       "    <tr>\n",
       "      <th>4</th>\n",
       "      <td>0</td>\n",
       "      <td>0.000000</td>\n",
       "      <td>11</td>\n",
       "      <td>53.8614</td>\n",
       "      <td>1987</td>\n",
       "      <td>Tier 3</td>\n",
       "      <td>Supermarket Type1</td>\n",
       "      <td>994.7052</td>\n",
       "    </tr>\n",
       "  </tbody>\n",
       "</table>\n",
       "</div>"
      ],
      "text/plain": [
       "   Item_Fat_Content  Item_Visibility  Item_Type  Item_MRP  \\\n",
       "0                 0         0.016047          4  249.8092   \n",
       "1                 1         0.019278         14   48.2692   \n",
       "2                 0         0.016760         10  141.6180   \n",
       "3                 1         0.000000          6  182.0950   \n",
       "4                 0         0.000000         11   53.8614   \n",
       "\n",
       "   Outlet_Establishment_Year Outlet_Location_Type        Outlet_Type  \\\n",
       "0                       1999               Tier 1  Supermarket Type1   \n",
       "1                       2009               Tier 3  Supermarket Type2   \n",
       "2                       1999               Tier 1  Supermarket Type1   \n",
       "3                       1998               Tier 3      Grocery Store   \n",
       "4                       1987               Tier 3  Supermarket Type1   \n",
       "\n",
       "   Item_Outlet_Sales  \n",
       "0          3735.1380  \n",
       "1           443.4228  \n",
       "2          2097.2700  \n",
       "3           732.3800  \n",
       "4           994.7052  "
      ]
     },
     "execution_count": 32,
     "metadata": {},
     "output_type": "execute_result"
    }
   ],
   "source": [
    "df.head()"
   ]
  },
  {
   "cell_type": "code",
   "execution_count": 33,
   "metadata": {
    "_cell_guid": "38061900-bb01-4657-8e53-8e008aaace4e",
    "_uuid": "cc9de03f-a74b-4714-ae91-4aa4db7da612",
    "execution": {
     "iopub.execute_input": "2021-11-17T17:27:19.202659Z",
     "iopub.status.busy": "2021-11-17T17:27:19.202044Z",
     "iopub.status.idle": "2021-11-17T17:27:19.211685Z",
     "shell.execute_reply": "2021-11-17T17:27:19.210979Z",
     "shell.execute_reply.started": "2021-11-17T17:27:19.202616Z"
    },
    "jupyter": {
     "outputs_hidden": false
    }
   },
   "outputs": [],
   "source": [
    "df[\"Age_Outlet\"]=2021-df[\"Outlet_Establishment_Year\"]\n",
    "df.drop(\"Outlet_Establishment_Year\",axis=1,inplace=True)"
   ]
  },
  {
   "cell_type": "code",
   "execution_count": 34,
   "metadata": {
    "_cell_guid": "455ecedb-4b00-4345-bb1b-66a5b11eaa3a",
    "_uuid": "61568370-f85d-41df-8ced-4022894b610a",
    "execution": {
     "iopub.execute_input": "2021-11-17T17:27:19.213853Z",
     "iopub.status.busy": "2021-11-17T17:27:19.213179Z",
     "iopub.status.idle": "2021-11-17T17:27:19.223623Z",
     "shell.execute_reply": "2021-11-17T17:27:19.222836Z",
     "shell.execute_reply.started": "2021-11-17T17:27:19.213811Z"
    },
    "jupyter": {
     "outputs_hidden": false
    }
   },
   "outputs": [
    {
     "name": "stdout",
     "output_type": "stream",
     "text": [
      "16\n"
     ]
    }
   ],
   "source": [
    "print(len(np.unique(df[\"Item_Type\"])))"
   ]
  },
  {
   "cell_type": "code",
   "execution_count": 35,
   "metadata": {
    "_cell_guid": "77ad8584-4b39-4119-8260-475bc0cf7e69",
    "_uuid": "3952d4ab-de05-4319-a758-17e432dc32af",
    "execution": {
     "iopub.execute_input": "2021-11-17T17:27:19.225605Z",
     "iopub.status.busy": "2021-11-17T17:27:19.224983Z",
     "iopub.status.idle": "2021-11-17T17:27:19.477792Z",
     "shell.execute_reply": "2021-11-17T17:27:19.475475Z",
     "shell.execute_reply.started": "2021-11-17T17:27:19.225564Z"
    },
    "jupyter": {
     "outputs_hidden": false
    }
   },
   "outputs": [
    {
     "data": {
      "text/plain": [
       "(array([-2.,  0.,  2.,  4.,  6.,  8., 10., 12., 14., 16.]),\n",
       " [Text(0, 0, ''),\n",
       "  Text(0, 0, ''),\n",
       "  Text(0, 0, ''),\n",
       "  Text(0, 0, ''),\n",
       "  Text(0, 0, ''),\n",
       "  Text(0, 0, ''),\n",
       "  Text(0, 0, ''),\n",
       "  Text(0, 0, ''),\n",
       "  Text(0, 0, ''),\n",
       "  Text(0, 0, '')])"
      ]
     },
     "execution_count": 35,
     "metadata": {},
     "output_type": "execute_result"
    },
    {
     "data": {
      "image/png": "[encoded data removed]",
      "text/plain": [
       "<Figure size 2160x720 with 1 Axes>"
      ]
     },
     "metadata": {
      "needs_background": "light"
     },
     "output_type": "display_data"
    }
   ],
   "source": [
    "plt.figure(figsize=(30,10))\n",
    "plt.hist(x=\"Item_Type\",bins=40,data=df)\n",
    "plt.yticks(size = 20)\n",
    "plt.xticks(size = 13)"
   ]
  },
  {
   "cell_type": "code",
   "execution_count": 36,
   "metadata": {
    "_cell_guid": "25bfb190-d673-457b-a623-659706da7d8c",
    "_uuid": "43d55b6a-30cf-494d-ae73-640329557db3",
    "execution": {
     "iopub.execute_input": "2021-11-17T17:27:19.479606Z",
     "iopub.status.busy": "2021-11-17T17:27:19.479238Z",
     "iopub.status.idle": "2021-11-17T17:27:19.490264Z",
     "shell.execute_reply": "2021-11-17T17:27:19.489383Z",
     "shell.execute_reply.started": "2021-11-17T17:27:19.479567Z"
    },
    "jupyter": {
     "outputs_hidden": false
    }
   },
   "outputs": [
    {
     "data": {
      "text/plain": [
       "array(['Grocery Store', 'Supermarket Type1', 'Supermarket Type2',\n",
       "       'Supermarket Type3'], dtype=object)"
      ]
     },
     "execution_count": 36,
     "metadata": {},
     "output_type": "execute_result"
    }
   ],
   "source": [
    "np.unique(df[\"Outlet_Type\"])"
   ]
  },
  {
   "cell_type": "code",
   "execution_count": 37,
   "metadata": {
    "_cell_guid": "e11caeed-97c6-4d58-b22e-82b13782c0c4",
    "_uuid": "616cd62d-e324-4e2f-9768-94a2db742d09",
    "execution": {
     "iopub.execute_input": "2021-11-17T17:27:19.491756Z",
     "iopub.status.busy": "2021-11-17T17:27:19.491470Z",
     "iopub.status.idle": "2021-11-17T17:27:19.671278Z",
     "shell.execute_reply": "2021-11-17T17:27:19.670415Z",
     "shell.execute_reply.started": "2021-11-17T17:27:19.491730Z"
    },
    "jupyter": {
     "outputs_hidden": false
    }
   },
   "outputs": [
    {
     "data": {
      "text/plain": [
       "([0, 1, 2, 3],\n",
       " [Text(0, 0, ''), Text(0, 0, ''), Text(0, 0, ''), Text(0, 0, '')])"
      ]
     },
     "execution_count": 37,
     "metadata": {},
     "output_type": "execute_result"
    },
    {
     "data": {
      "image/png": "[encoded data removed]",
      "text/plain": [
       "<Figure size 2160x720 with 1 Axes>"
      ]
     },
     "metadata": {
      "needs_background": "light"
     },
     "output_type": "display_data"
    }
   ],
   "source": [
    "plt.figure(figsize=(30,10))\n",
    "plt.hist(x=\"Outlet_Type\",data=df)\n",
    "plt.yticks(size = 20)\n",
    "plt.xticks(size = 20)"
   ]
  },
  {
   "cell_type": "code",
   "execution_count": 38,
   "metadata": {
    "_cell_guid": "5bddea8c-b00a-4da2-b639-60c75e778516",
    "_uuid": "8ba4f151-fa48-470b-bb8c-3686fb88f0c6",
    "execution": {
     "iopub.execute_input": "2021-11-17T17:27:19.672828Z",
     "iopub.status.busy": "2021-11-17T17:27:19.672547Z",
     "iopub.status.idle": "2021-11-17T17:27:19.687256Z",
     "shell.execute_reply": "2021-11-17T17:27:19.686176Z",
     "shell.execute_reply.started": "2021-11-17T17:27:19.672801Z"
    },
    "jupyter": {
     "outputs_hidden": false
    }
   },
   "outputs": [
    {
     "data": {
      "text/html": [
       "<div>\n",
       "<style scoped>\n",
       "    .dataframe tbody tr th:only-of-type {\n",
       "        vertical-align: middle;\n",
       "    }\n",
       "\n",
       "    .dataframe tbody tr th {\n",
       "        vertical-align: top;\n",
       "    }\n",
       "\n",
       "    .dataframe thead th {\n",
       "        text-align: right;\n",
       "    }\n",
       "</style>\n",
       "<table border=\"1\" class=\"dataframe\">\n",
       "  <thead>\n",
       "    <tr style=\"text-align: right;\">\n",
       "      <th></th>\n",
       "      <th>Item_Fat_Content</th>\n",
       "      <th>Item_Visibility</th>\n",
       "      <th>Item_Type</th>\n",
       "      <th>Item_MRP</th>\n",
       "      <th>Outlet_Location_Type</th>\n",
       "      <th>Outlet_Type</th>\n",
       "      <th>Item_Outlet_Sales</th>\n",
       "      <th>Age_Outlet</th>\n",
       "    </tr>\n",
       "  </thead>\n",
       "  <tbody>\n",
       "    <tr>\n",
       "      <th>0</th>\n",
       "      <td>0</td>\n",
       "      <td>0.016047</td>\n",
       "      <td>4</td>\n",
       "      <td>249.8092</td>\n",
       "      <td>Tier 1</td>\n",
       "      <td>Supermarket Type1</td>\n",
       "      <td>3735.1380</td>\n",
       "      <td>22</td>\n",
       "    </tr>\n",
       "    <tr>\n",
       "      <th>1</th>\n",
       "      <td>1</td>\n",
       "      <td>0.019278</td>\n",
       "      <td>14</td>\n",
       "      <td>48.2692</td>\n",
       "      <td>Tier 3</td>\n",
       "      <td>Supermarket Type2</td>\n",
       "      <td>443.4228</td>\n",
       "      <td>12</td>\n",
       "    </tr>\n",
       "    <tr>\n",
       "      <th>2</th>\n",
       "      <td>0</td>\n",
       "      <td>0.016760</td>\n",
       "      <td>10</td>\n",
       "      <td>141.6180</td>\n",
       "      <td>Tier 1</td>\n",
       "      <td>Supermarket Type1</td>\n",
       "      <td>2097.2700</td>\n",
       "      <td>22</td>\n",
       "    </tr>\n",
       "    <tr>\n",
       "      <th>3</th>\n",
       "      <td>1</td>\n",
       "      <td>0.000000</td>\n",
       "      <td>6</td>\n",
       "      <td>182.0950</td>\n",
       "      <td>Tier 3</td>\n",
       "      <td>Grocery Store</td>\n",
       "      <td>732.3800</td>\n",
       "      <td>23</td>\n",
       "    </tr>\n",
       "    <tr>\n",
       "      <th>4</th>\n",
       "      <td>0</td>\n",
       "      <td>0.000000</td>\n",
       "      <td>11</td>\n",
       "      <td>53.8614</td>\n",
       "      <td>Tier 3</td>\n",
       "      <td>Supermarket Type1</td>\n",
       "      <td>994.7052</td>\n",
       "      <td>34</td>\n",
       "    </tr>\n",
       "  </tbody>\n",
       "</table>\n",
       "</div>"
      ],
      "text/plain": [
       "   Item_Fat_Content  Item_Visibility  Item_Type  Item_MRP  \\\n",
       "0                 0         0.016047          4  249.8092   \n",
       "1                 1         0.019278         14   48.2692   \n",
       "2                 0         0.016760         10  141.6180   \n",
       "3                 1         0.000000          6  182.0950   \n",
       "4                 0         0.000000         11   53.8614   \n",
       "\n",
       "  Outlet_Location_Type        Outlet_Type  Item_Outlet_Sales  Age_Outlet  \n",
       "0               Tier 1  Supermarket Type1          3735.1380          22  \n",
       "1               Tier 3  Supermarket Type2           443.4228          12  \n",
       "2               Tier 1  Supermarket Type1          2097.2700          22  \n",
       "3               Tier 3      Grocery Store           732.3800          23  \n",
       "4               Tier 3  Supermarket Type1           994.7052          34  "
      ]
     },
     "execution_count": 38,
     "metadata": {},
     "output_type": "execute_result"
    }
   ],
   "source": [
    "df.head()"
   ]
  },
  {
   "cell_type": "code",
   "execution_count": 39,
   "metadata": {
    "_cell_guid": "e4c208c7-b585-4d5f-b249-7c94d3f34f64",
    "_uuid": "c90fc5db-769f-4b29-a591-2a7f637a1af4",
    "execution": {
     "iopub.execute_input": "2021-11-17T17:27:19.688698Z",
     "iopub.status.busy": "2021-11-17T17:27:19.688446Z",
     "iopub.status.idle": "2021-11-17T17:27:19.702595Z",
     "shell.execute_reply": "2021-11-17T17:27:19.701714Z",
     "shell.execute_reply.started": "2021-11-17T17:27:19.688673Z"
    },
    "jupyter": {
     "outputs_hidden": false
    }
   },
   "outputs": [
    {
     "data": {
      "text/plain": [
       "array(['Tier 1', 'Tier 2', 'Tier 3'], dtype=object)"
      ]
     },
     "execution_count": 39,
     "metadata": {},
     "output_type": "execute_result"
    }
   ],
   "source": [
    "np.unique(df.Outlet_Location_Type)"
   ]
  },
  {
   "cell_type": "code",
   "execution_count": 40,
   "metadata": {
    "_cell_guid": "9105b749-2547-469f-9cf8-0e06a0991c48",
    "_uuid": "b16a9acc-345c-40f4-89f6-0ca2232c275f",
    "execution": {
     "iopub.execute_input": "2021-11-17T17:27:19.704631Z",
     "iopub.status.busy": "2021-11-17T17:27:19.704022Z",
     "iopub.status.idle": "2021-11-17T17:27:19.717496Z",
     "shell.execute_reply": "2021-11-17T17:27:19.716815Z",
     "shell.execute_reply.started": "2021-11-17T17:27:19.704589Z"
    },
    "jupyter": {
     "outputs_hidden": false
    }
   },
   "outputs": [],
   "source": [
    "tier={'Tier 1':0, 'Tier 2':1, 'Tier 3':2}\n",
    "df.Outlet_Location_Type=[tier[item] for item in df.Outlet_Location_Type]"
   ]
  },
  {
   "cell_type": "code",
   "execution_count": 41,
   "metadata": {
    "_cell_guid": "212b2ef6-0ee1-4585-85b7-ad5c5db45223",
    "_uuid": "2606bdf4-e9ac-4520-a04f-6a8d06a8d35a",
    "execution": {
     "iopub.execute_input": "2021-11-17T17:27:19.719067Z",
     "iopub.status.busy": "2021-11-17T17:27:19.718608Z",
     "iopub.status.idle": "2021-11-17T17:27:19.733625Z",
     "shell.execute_reply": "2021-11-17T17:27:19.732791Z",
     "shell.execute_reply.started": "2021-11-17T17:27:19.719036Z"
    },
    "jupyter": {
     "outputs_hidden": false
    }
   },
   "outputs": [],
   "source": [
    "market_type={'Grocery Store':0, 'Supermarket Type1':1, 'Supermarket Type2':2,\n",
    "       'Supermarket Type3':3}\n",
    "df.Outlet_Type=[market_type[item] for item in df.Outlet_Type]"
   ]
  },
  {
   "cell_type": "code",
   "execution_count": 42,
   "metadata": {
    "_cell_guid": "249730d1-56b1-461b-a021-7f12e0bb62ef",
    "_uuid": "a3f1fd89-2248-41e4-b992-a08c5403854c",
    "execution": {
     "iopub.execute_input": "2021-11-17T17:27:19.735065Z",
     "iopub.status.busy": "2021-11-17T17:27:19.734652Z",
     "iopub.status.idle": "2021-11-17T17:27:19.835702Z",
     "shell.execute_reply": "2021-11-17T17:27:19.835072Z",
     "shell.execute_reply.started": "2021-11-17T17:27:19.735039Z"
    },
    "jupyter": {
     "outputs_hidden": false
    }
   },
   "outputs": [
    {
     "data": {
      "text/plain": [
       "{'whiskers': [<matplotlib.lines.Line2D at 0x29a3ad059a0>,\n",
       "  <matplotlib.lines.Line2D at 0x29a3ad05d00>],\n",
       " 'caps': [<matplotlib.lines.Line2D at 0x29a3ad110a0>,\n",
       "  <matplotlib.lines.Line2D at 0x29a3ad11400>],\n",
       " 'boxes': [<matplotlib.lines.Line2D at 0x29a3ad05640>],\n",
       " 'medians': [<matplotlib.lines.Line2D at 0x29a3ad11760>],\n",
       " 'fliers': [<matplotlib.lines.Line2D at 0x29a3ad11ac0>],\n",
       " 'means': []}"
      ]
     },
     "execution_count": 42,
     "metadata": {},
     "output_type": "execute_result"
    },
    {
     "data": {
      "image/png": "[encoded data removed]",
      "text/plain": [
       "<Figure size 432x288 with 1 Axes>"
      ]
     },
     "metadata": {
      "needs_background": "light"
     },
     "output_type": "display_data"
    }
   ],
   "source": [
    "plt.boxplot(df[\"Item_MRP\"])"
   ]
  },
  {
   "cell_type": "code",
   "execution_count": 43,
   "metadata": {
    "_cell_guid": "2105d0c8-f27d-489e-86cc-6f935731149a",
    "_uuid": "681561b7-5c63-4309-ae43-254f4590a648",
    "execution": {
     "iopub.execute_input": "2021-11-17T17:27:19.836997Z",
     "iopub.status.busy": "2021-11-17T17:27:19.836624Z",
     "iopub.status.idle": "2021-11-17T17:27:19.938418Z",
     "shell.execute_reply": "2021-11-17T17:27:19.937621Z",
     "shell.execute_reply.started": "2021-11-17T17:27:19.836970Z"
    },
    "jupyter": {
     "outputs_hidden": false
    }
   },
   "outputs": [
    {
     "data": {
      "text/plain": [
       "{'whiskers': [<matplotlib.lines.Line2D at 0x29a3b161bb0>,\n",
       "  <matplotlib.lines.Line2D at 0x29a3b161f10>],\n",
       " 'caps': [<matplotlib.lines.Line2D at 0x29a3b16f2b0>,\n",
       "  <matplotlib.lines.Line2D at 0x29a3b16f610>],\n",
       " 'boxes': [<matplotlib.lines.Line2D at 0x29a3b161850>],\n",
       " 'medians': [<matplotlib.lines.Line2D at 0x29a3b16f970>],\n",
       " 'fliers': [<matplotlib.lines.Line2D at 0x29a3b16fcd0>],\n",
       " 'means': []}"
      ]
     },
     "execution_count": 43,
     "metadata": {},
     "output_type": "execute_result"
    },
    {
     "data": {
      "image/png": "[encoded data removed]",
      "text/plain": [
       "<Figure size 432x288 with 1 Axes>"
      ]
     },
     "metadata": {
      "needs_background": "light"
     },
     "output_type": "display_data"
    }
   ],
   "source": [
    "plt.boxplot(df[\"Item_Visibility\"])"
   ]
  },
  {
   "cell_type": "code",
   "execution_count": 44,
   "metadata": {
    "_cell_guid": "e35a2411-873a-451d-984d-6d6622625b8b",
    "_uuid": "77c38bce-7a43-4d83-9bf1-59b5f93aed3b",
    "execution": {
     "iopub.execute_input": "2021-11-17T17:27:19.939810Z",
     "iopub.status.busy": "2021-11-17T17:27:19.939517Z",
     "iopub.status.idle": "2021-11-17T17:27:19.949346Z",
     "shell.execute_reply": "2021-11-17T17:27:19.948554Z",
     "shell.execute_reply.started": "2021-11-17T17:27:19.939784Z"
    },
    "jupyter": {
     "outputs_hidden": false
    }
   },
   "outputs": [
    {
     "data": {
      "text/plain": [
       "count    8523.000000\n",
       "mean        0.066132\n",
       "std         0.051598\n",
       "min         0.000000\n",
       "25%         0.026989\n",
       "50%         0.053931\n",
       "75%         0.094585\n",
       "max         0.328391\n",
       "Name: Item_Visibility, dtype: float64"
      ]
     },
     "execution_count": 44,
     "metadata": {},
     "output_type": "execute_result"
    }
   ],
   "source": [
    "df[\"Item_Visibility\"].describe()"
   ]
  },
  {
   "cell_type": "code",
   "execution_count": 45,
   "metadata": {
    "_cell_guid": "b04440cf-5255-4e93-9c80-6bf5527864c9",
    "_uuid": "0f1fa83a-beae-4800-a4c0-488d8085fff0",
    "execution": {
     "iopub.execute_input": "2021-11-17T17:27:19.951264Z",
     "iopub.status.busy": "2021-11-17T17:27:19.950597Z",
     "iopub.status.idle": "2021-11-17T17:27:19.958919Z",
     "shell.execute_reply": "2021-11-17T17:27:19.958108Z",
     "shell.execute_reply.started": "2021-11-17T17:27:19.951224Z"
    },
    "jupyter": {
     "outputs_hidden": false
    }
   },
   "outputs": [
    {
     "data": {
      "text/plain": [
       "0.053930934"
      ]
     },
     "execution_count": 45,
     "metadata": {},
     "output_type": "execute_result"
    }
   ],
   "source": [
    "df[\"Item_Visibility\"].median()"
   ]
  },
  {
   "cell_type": "code",
   "execution_count": 46,
   "metadata": {
    "_cell_guid": "a5a4093b-5b83-415c-9015-a7a32025a96f",
    "_uuid": "6e8f5a4a-a2c6-4360-b8d5-f8d0fa26efa8",
    "execution": {
     "iopub.execute_input": "2021-11-17T17:27:19.960678Z",
     "iopub.status.busy": "2021-11-17T17:27:19.960157Z",
     "iopub.status.idle": "2021-11-17T17:27:19.969037Z",
     "shell.execute_reply": "2021-11-17T17:27:19.968044Z",
     "shell.execute_reply.started": "2021-11-17T17:27:19.960639Z"
    },
    "jupyter": {
     "outputs_hidden": false
    }
   },
   "outputs": [],
   "source": [
    "q3,q1=np.percentile(df[\"Item_Visibility\"],[75,25])\n",
    "iqr=q3-q1"
   ]
  },
  {
   "cell_type": "code",
   "execution_count": 47,
   "metadata": {
    "_cell_guid": "361a6d5a-5ffa-4ba0-bf38-902b73f88eb4",
    "_uuid": "d1197e0c-1dec-4038-b031-2afa9a294262",
    "execution": {
     "iopub.execute_input": "2021-11-17T17:27:19.970692Z",
     "iopub.status.busy": "2021-11-17T17:27:19.970168Z",
     "iopub.status.idle": "2021-11-17T17:27:20.623046Z",
     "shell.execute_reply": "2021-11-17T17:27:20.622068Z",
     "shell.execute_reply.started": "2021-11-17T17:27:19.970662Z"
    },
    "jupyter": {
     "outputs_hidden": false
    }
   },
   "outputs": [],
   "source": [
    "for i in range(len(df)):\n",
    "    if df.loc[i,\"Item_Visibility\"]>1.5*iqr:\n",
    "        df.loc[i,\"Item_Visibility\"]=0.066132"
   ]
  },
  {
   "cell_type": "code",
   "execution_count": 48,
   "metadata": {
    "_cell_guid": "0eef241b-3eea-4180-815f-b8989b1267c0",
    "_uuid": "5ce1acee-872c-4b93-8b37-45a2257f47c4",
    "execution": {
     "iopub.execute_input": "2021-11-17T17:27:20.624831Z",
     "iopub.status.busy": "2021-11-17T17:27:20.624429Z",
     "iopub.status.idle": "2021-11-17T17:27:20.721970Z",
     "shell.execute_reply": "2021-11-17T17:27:20.721084Z",
     "shell.execute_reply.started": "2021-11-17T17:27:20.624787Z"
    },
    "jupyter": {
     "outputs_hidden": false
    }
   },
   "outputs": [
    {
     "data": {
      "text/plain": [
       "{'whiskers': [<matplotlib.lines.Line2D at 0x29a3b1f8160>,\n",
       "  <matplotlib.lines.Line2D at 0x29a3b1f84c0>],\n",
       " 'caps': [<matplotlib.lines.Line2D at 0x29a3b1f8820>,\n",
       "  <matplotlib.lines.Line2D at 0x29a3b1f8b80>],\n",
       " 'boxes': [<matplotlib.lines.Line2D at 0x29a3b1ecdc0>],\n",
       " 'medians': [<matplotlib.lines.Line2D at 0x29a3b1f8ee0>],\n",
       " 'fliers': [<matplotlib.lines.Line2D at 0x29a3b205280>],\n",
       " 'means': []}"
      ]
     },
     "execution_count": 48,
     "metadata": {},
     "output_type": "execute_result"
    },
    {
     "data": {
      "image/png": "[encoded data removed]",
      "text/plain": [
       "<Figure size 432x288 with 1 Axes>"
      ]
     },
     "metadata": {
      "needs_background": "light"
     },
     "output_type": "display_data"
    }
   ],
   "source": [
    "plt.boxplot(df[\"Item_Visibility\"])"
   ]
  },
  {
   "cell_type": "code",
   "execution_count": 49,
   "metadata": {
    "_cell_guid": "d551f483-3928-4197-9ca3-620a311956c8",
    "_uuid": "05db7c5a-bc4c-4bd0-9e36-194d7cc626b4",
    "execution": {
     "iopub.execute_input": "2021-11-17T17:27:20.723536Z",
     "iopub.status.busy": "2021-11-17T17:27:20.723263Z",
     "iopub.status.idle": "2021-11-17T17:27:20.727264Z",
     "shell.execute_reply": "2021-11-17T17:27:20.726306Z",
     "shell.execute_reply.started": "2021-11-17T17:27:20.723511Z"
    },
    "jupyter": {
     "outputs_hidden": false
    }
   },
   "outputs": [],
   "source": [
    "from sklearn.linear_model import LinearRegression"
   ]
  },
  {
   "cell_type": "code",
   "execution_count": 50,
   "metadata": {
    "_cell_guid": "288a27c8-e934-4077-8c80-f49ab3cc2e07",
    "_uuid": "d47d5279-c01c-4c3b-968d-1b628ff2e5ae",
    "execution": {
     "iopub.execute_input": "2021-11-17T17:27:20.728581Z",
     "iopub.status.busy": "2021-11-17T17:27:20.728120Z",
     "iopub.status.idle": "2021-11-17T17:27:20.739452Z",
     "shell.execute_reply": "2021-11-17T17:27:20.738684Z",
     "shell.execute_reply.started": "2021-11-17T17:27:20.728553Z"
    },
    "jupyter": {
     "outputs_hidden": false
    }
   },
   "outputs": [],
   "source": [
    "linear_reg=LinearRegression()"
   ]
  },
  {
   "cell_type": "code",
   "execution_count": null,
   "metadata": {
    "_cell_guid": "233915bf-f346-43da-b656-a4941d1643f7",
    "_uuid": "25241ec1-cede-4cd3-a99a-8ab4f97156e6",
    "jupyter": {
     "outputs_hidden": false
    }
   },
   "outputs": [],
   "source": []
  },
  {
   "cell_type": "code",
   "execution_count": 51,
   "metadata": {
    "_cell_guid": "a031abc0-3b7b-4608-8200-7ee87f526e84",
    "_uuid": "d69f2f25-6617-438a-89b5-799883802081",
    "execution": {
     "iopub.execute_input": "2021-11-17T17:27:20.740819Z",
     "iopub.status.busy": "2021-11-17T17:27:20.740412Z",
     "iopub.status.idle": "2021-11-17T17:27:20.751324Z",
     "shell.execute_reply": "2021-11-17T17:27:20.750629Z",
     "shell.execute_reply.started": "2021-11-17T17:27:20.740789Z"
    },
    "jupyter": {
     "outputs_hidden": false
    }
   },
   "outputs": [],
   "source": [
    "from sklearn.ensemble import RandomForestRegressor"
   ]
  },
  {
   "cell_type": "code",
   "execution_count": 52,
   "metadata": {
    "_cell_guid": "e8488fe7-49b0-42de-a68f-31a60c71696c",
    "_uuid": "313bdb2e-9ef0-485a-864e-2b12133a0895",
    "execution": {
     "iopub.execute_input": "2021-11-17T17:27:20.752948Z",
     "iopub.status.busy": "2021-11-17T17:27:20.752502Z",
     "iopub.status.idle": "2021-11-17T17:27:20.764450Z",
     "shell.execute_reply": "2021-11-17T17:27:20.763634Z",
     "shell.execute_reply.started": "2021-11-17T17:27:20.752919Z"
    },
    "jupyter": {
     "outputs_hidden": false
    }
   },
   "outputs": [],
   "source": [
    "rf=RandomForestRegressor()"
   ]
  },
  {
   "cell_type": "code",
   "execution_count": 53,
   "metadata": {
    "_cell_guid": "060bed7e-0899-4106-9b86-c4d1b013718c",
    "_uuid": "f1c01a3b-d860-4f0c-96b5-23f61d06de27",
    "execution": {
     "iopub.execute_input": "2021-11-17T17:27:20.765839Z",
     "iopub.status.busy": "2021-11-17T17:27:20.765415Z",
     "iopub.status.idle": "2021-11-17T17:27:20.776043Z",
     "shell.execute_reply": "2021-11-17T17:27:20.775259Z",
     "shell.execute_reply.started": "2021-11-17T17:27:20.765810Z"
    },
    "jupyter": {
     "outputs_hidden": false
    }
   },
   "outputs": [],
   "source": [
    "from sklearn.model_selection import RandomizedSearchCV"
   ]
  },
  {
   "cell_type": "code",
   "execution_count": 54,
   "metadata": {
    "_cell_guid": "01103985-4ba0-48db-a47c-ef4c33998c49",
    "_uuid": "5aae37b5-726a-4e9c-a391-7c8081c3aa0a",
    "execution": {
     "iopub.execute_input": "2021-11-17T17:27:20.777353Z",
     "iopub.status.busy": "2021-11-17T17:27:20.776990Z",
     "iopub.status.idle": "2021-11-17T17:27:20.788005Z",
     "shell.execute_reply": "2021-11-17T17:27:20.787185Z",
     "shell.execute_reply.started": "2021-11-17T17:27:20.777326Z"
    },
    "jupyter": {
     "outputs_hidden": false
    }
   },
   "outputs": [],
   "source": [
    "n_estimators=[int(x) for x in np.linspace(start = 100, stop = 1200, num = 12)]\n",
    "max_depth=[int(x) for x in np.linspace(5, 30, num = 6)]\n",
    "max_features=['auto','sqrt']\n",
    "min_samples_split=[2,5,10,15,25,35,50]\n",
    "min_samples_leaf=[1,2,5,10]"
   ]
  },
  {
   "cell_type": "code",
   "execution_count": 55,
   "metadata": {
    "_cell_guid": "3b327ec6-f5de-4b1f-b064-5c8f89f0a4ac",
    "_uuid": "a766257c-c4a9-4347-9fe3-4a270b0300d8",
    "execution": {
     "iopub.execute_input": "2021-11-17T17:27:20.789320Z",
     "iopub.status.busy": "2021-11-17T17:27:20.788965Z",
     "iopub.status.idle": "2021-11-17T17:27:20.800673Z",
     "shell.execute_reply": "2021-11-17T17:27:20.800008Z",
     "shell.execute_reply.started": "2021-11-17T17:27:20.789295Z"
    },
    "jupyter": {
     "outputs_hidden": false
    }
   },
   "outputs": [
    {
     "name": "stdout",
     "output_type": "stream",
     "text": [
      "[100, 200, 300, 400, 500, 600, 700, 800, 900, 1000, 1100, 1200]\n"
     ]
    }
   ],
   "source": [
    "print(n_estimators)"
   ]
  },
  {
   "cell_type": "code",
   "execution_count": 56,
   "metadata": {
    "_cell_guid": "63ecc92c-6a33-4769-b479-f397dceeb582",
    "_uuid": "151dbad6-721c-49ff-9e59-a7e448fb648b",
    "execution": {
     "iopub.execute_input": "2021-11-17T17:27:20.802058Z",
     "iopub.status.busy": "2021-11-17T17:27:20.801636Z",
     "iopub.status.idle": "2021-11-17T17:27:20.816939Z",
     "shell.execute_reply": "2021-11-17T17:27:20.815953Z",
     "shell.execute_reply.started": "2021-11-17T17:27:20.802028Z"
    },
    "jupyter": {
     "outputs_hidden": false
    }
   },
   "outputs": [],
   "source": [
    "params={'n_estimators':n_estimators,\n",
    "       \n",
    "       'max_depth':max_depth,\n",
    "        'max_features':max_features,\n",
    "       'min_samples_split':min_samples_split,\n",
    "       'min_samples_leaf':min_samples_leaf}"
   ]
  },
  {
   "cell_type": "code",
   "execution_count": 57,
   "metadata": {
    "_cell_guid": "c649fad5-887e-4e64-9ed8-e62f572573e1",
    "_uuid": "a74dae19-eb22-4c70-afea-82751bf0df4d",
    "execution": {
     "iopub.execute_input": "2021-11-17T17:27:20.818686Z",
     "iopub.status.busy": "2021-11-17T17:27:20.818232Z",
     "iopub.status.idle": "2021-11-17T17:27:20.831358Z",
     "shell.execute_reply": "2021-11-17T17:27:20.830582Z",
     "shell.execute_reply.started": "2021-11-17T17:27:20.818654Z"
    },
    "jupyter": {
     "outputs_hidden": false
    }
   },
   "outputs": [
    {
     "data": {
      "text/plain": [
       "Item_Fat_Content          int64\n",
       "Item_Visibility         float64\n",
       "Item_Type                 int64\n",
       "Item_MRP                float64\n",
       "Outlet_Location_Type      int64\n",
       "Outlet_Type               int64\n",
       "Item_Outlet_Sales       float64\n",
       "Age_Outlet                int64\n",
       "dtype: object"
      ]
     },
     "execution_count": 57,
     "metadata": {},
     "output_type": "execute_result"
    }
   ],
   "source": [
    "df.dtypes"
   ]
  },
  {
   "cell_type": "code",
   "execution_count": 58,
   "metadata": {
    "_cell_guid": "2a69fbb3-6505-47fe-ab3b-ba019ee5bbcf",
    "_uuid": "91a07bef-1585-4eeb-b537-4fff44c1eb32",
    "execution": {
     "iopub.execute_input": "2021-11-17T17:27:20.833170Z",
     "iopub.status.busy": "2021-11-17T17:27:20.832665Z",
     "iopub.status.idle": "2021-11-17T17:27:20.840064Z",
     "shell.execute_reply": "2021-11-17T17:27:20.839161Z",
     "shell.execute_reply.started": "2021-11-17T17:27:20.833138Z"
    },
    "jupyter": {
     "outputs_hidden": false
    }
   },
   "outputs": [],
   "source": [
    "rf_ran=RandomizedSearchCV(estimator=rf,param_distributions=params,random_state=101,scoring='neg_mean_squared_error',cv=5,n_jobs=1,return_train_score=True,verbose=2,n_iter=10)"
   ]
  },
  {
   "cell_type": "code",
   "execution_count": 59,
   "metadata": {
    "_cell_guid": "a3aed2df-9c9e-4c16-a873-65fe27d4a57a",
    "_uuid": "39570785-e145-4fa1-84cd-080692658e4a",
    "execution": {
     "iopub.execute_input": "2021-11-17T17:27:20.842037Z",
     "iopub.status.busy": "2021-11-17T17:27:20.841436Z",
     "iopub.status.idle": "2021-11-17T17:27:20.854791Z",
     "shell.execute_reply": "2021-11-17T17:27:20.854016Z",
     "shell.execute_reply.started": "2021-11-17T17:27:20.841995Z"
    },
    "jupyter": {
     "outputs_hidden": false
    }
   },
   "outputs": [],
   "source": [
    "x_train,x_test,y_train,y_test=train_test_split(df.drop(\"Item_Outlet_Sales\",axis=1),df[\"Item_Outlet_Sales\"],test_size=0.8,random_state=42)"
   ]
  },
  {
   "cell_type": "code",
   "execution_count": 60,
   "metadata": {
    "_cell_guid": "4a0a97bb-e8b7-416f-82b8-35d49803eba3",
    "_uuid": "ecb1ed71-0d78-4893-86ad-860b64261fd9",
    "execution": {
     "iopub.execute_input": "2021-11-17T17:27:20.856455Z",
     "iopub.status.busy": "2021-11-17T17:27:20.855914Z",
     "iopub.status.idle": "2021-11-17T17:27:20.864566Z",
     "shell.execute_reply": "2021-11-17T17:27:20.863842Z",
     "shell.execute_reply.started": "2021-11-17T17:27:20.856415Z"
    },
    "jupyter": {
     "outputs_hidden": false
    }
   },
   "outputs": [],
   "source": [
    "#rf_ran.fit(x_train,y_train)"
   ]
  },
  {
   "cell_type": "code",
   "execution_count": 61,
   "metadata": {
    "_cell_guid": "195eff16-7e41-4c8f-a7b8-c5b7780f1774",
    "_uuid": "a0004ac0-cbb9-4bdc-beec-6a586d7e2a86",
    "execution": {
     "iopub.execute_input": "2021-11-17T17:27:20.866412Z",
     "iopub.status.busy": "2021-11-17T17:27:20.865815Z",
     "iopub.status.idle": "2021-11-17T17:27:20.874283Z",
     "shell.execute_reply": "2021-11-17T17:27:20.873617Z",
     "shell.execute_reply.started": "2021-11-17T17:27:20.866347Z"
    },
    "jupyter": {
     "outputs_hidden": false
    }
   },
   "outputs": [],
   "source": [
    "#rf_ran.best_params_"
   ]
  },
  {
   "cell_type": "code",
   "execution_count": 62,
   "metadata": {
    "_cell_guid": "38525d20-dab6-4dde-b5d2-05e5720c30c8",
    "_uuid": "ab8cacbb-5e3e-4dc0-b7e0-02bb22606218",
    "execution": {
     "iopub.execute_input": "2021-11-17T17:27:20.876095Z",
     "iopub.status.busy": "2021-11-17T17:27:20.875547Z",
     "iopub.status.idle": "2021-11-17T17:27:20.884453Z",
     "shell.execute_reply": "2021-11-17T17:27:20.883554Z",
     "shell.execute_reply.started": "2021-11-17T17:27:20.876054Z"
    },
    "jupyter": {
     "outputs_hidden": false
    }
   },
   "outputs": [],
   "source": [
    "#model=RandomForestRegressor(n_estimators=400,min_samples_split=50,min_samples_leaf= 1,max_features= 'auto',max_depth=5)"
   ]
  },
  {
   "cell_type": "code",
   "execution_count": 63,
   "metadata": {
    "_cell_guid": "c522df41-2fc6-40d8-bf27-3338bafa1d55",
    "_uuid": "ff6018ee-a25b-4ef6-8964-2009b1359198",
    "execution": {
     "iopub.execute_input": "2021-11-17T17:27:20.886232Z",
     "iopub.status.busy": "2021-11-17T17:27:20.885657Z",
     "iopub.status.idle": "2021-11-17T17:27:20.894085Z",
     "shell.execute_reply": "2021-11-17T17:27:20.893388Z",
     "shell.execute_reply.started": "2021-11-17T17:27:20.886189Z"
    },
    "jupyter": {
     "outputs_hidden": false
    }
   },
   "outputs": [],
   "source": [
    "#model.fit(x_train,y_train)"
   ]
  },
  {
   "cell_type": "code",
   "execution_count": 64,
   "metadata": {
    "_cell_guid": "786e029d-7ea4-4631-8521-7ba25d5376a9",
    "_uuid": "3f831f2b-e8c0-4a1c-a526-01887a75c18e",
    "execution": {
     "iopub.execute_input": "2021-11-17T17:27:20.895758Z",
     "iopub.status.busy": "2021-11-17T17:27:20.895169Z",
     "iopub.status.idle": "2021-11-17T17:27:20.905066Z",
     "shell.execute_reply": "2021-11-17T17:27:20.904047Z",
     "shell.execute_reply.started": "2021-11-17T17:27:20.895688Z"
    },
    "jupyter": {
     "outputs_hidden": false
    }
   },
   "outputs": [],
   "source": [
    "#preds=model.predict(x_test)"
   ]
  },
  {
   "cell_type": "code",
   "execution_count": 65,
   "metadata": {
    "_cell_guid": "e87605d6-40e0-49f1-9786-b082fb1c037d",
    "_uuid": "a3396da3-016b-42ad-94f7-03fa444af360",
    "execution": {
     "iopub.execute_input": "2021-11-17T17:27:20.907031Z",
     "iopub.status.busy": "2021-11-17T17:27:20.906424Z",
     "iopub.status.idle": "2021-11-17T17:27:20.914860Z",
     "shell.execute_reply": "2021-11-17T17:27:20.914128Z",
     "shell.execute_reply.started": "2021-11-17T17:27:20.906985Z"
    },
    "jupyter": {
     "outputs_hidden": false
    }
   },
   "outputs": [],
   "source": [
    "#sns.distplot(preds-y_test)"
   ]
  },
  {
   "cell_type": "code",
   "execution_count": 66,
   "metadata": {
    "_cell_guid": "67a772ea-9dff-454f-8521-bb41c4fb104d",
    "_uuid": "bad5bc71-0532-4d44-89e1-a756f2ff572a",
    "execution": {
     "iopub.execute_input": "2021-11-17T17:27:20.916639Z",
     "iopub.status.busy": "2021-11-17T17:27:20.916281Z",
     "iopub.status.idle": "2021-11-17T17:27:20.923977Z",
     "shell.execute_reply": "2021-11-17T17:27:20.923201Z",
     "shell.execute_reply.started": "2021-11-17T17:27:20.916610Z"
    },
    "jupyter": {
     "outputs_hidden": false
    }
   },
   "outputs": [],
   "source": [
    "#plt.scatter(preds,y_test)"
   ]
  },
  {
   "cell_type": "code",
   "execution_count": 67,
   "metadata": {
    "_cell_guid": "a687e9c6-1a9c-4222-9d80-18ac2e656b58",
    "_uuid": "fbf8c95d-f58c-4226-856a-d3dea14dafe1",
    "execution": {
     "iopub.execute_input": "2021-11-17T17:27:20.926160Z",
     "iopub.status.busy": "2021-11-17T17:27:20.925570Z",
     "iopub.status.idle": "2021-11-17T17:27:20.933480Z",
     "shell.execute_reply": "2021-11-17T17:27:20.932812Z",
     "shell.execute_reply.started": "2021-11-17T17:27:20.926119Z"
    },
    "jupyter": {
     "outputs_hidden": false
    }
   },
   "outputs": [],
   "source": [
    "#from sklearn import metrics\n",
    "#print('MAE:', metrics.mean_absolute_error(y_test, preds))\n",
    "#print('MSE:', metrics.mean_squared_error(y_test, preds))\n",
    "#print('RMSE:', np.sqrt(metrics.mean_squared_error(y_test, preds)))"
   ]
  },
  {
   "cell_type": "code",
   "execution_count": 68,
   "metadata": {
    "_cell_guid": "7a357986-f898-47e7-b809-0fc74c0030d3",
    "_uuid": "dfeca8d4-4d86-4a10-9b5f-2da504b3d4dd",
    "execution": {
     "iopub.execute_input": "2021-11-17T17:27:20.934890Z",
     "iopub.status.busy": "2021-11-17T17:27:20.934460Z",
     "iopub.status.idle": "2021-11-17T17:27:20.946472Z",
     "shell.execute_reply": "2021-11-17T17:27:20.945713Z",
     "shell.execute_reply.started": "2021-11-17T17:27:20.934860Z"
    },
    "jupyter": {
     "outputs_hidden": false
    }
   },
   "outputs": [],
   "source": [
    "#reg=LinearRegression()\n",
    "#model1=reg.fit(x_train,y_train)"
   ]
  },
  {
   "cell_type": "code",
   "execution_count": 69,
   "metadata": {
    "_cell_guid": "cf143d64-f4be-48d2-a95e-a5f3bf4f32c7",
    "_uuid": "be5c8cb0-b6f7-45bf-a6cf-ee4d0353c4fe",
    "execution": {
     "iopub.execute_input": "2021-11-17T17:27:20.949557Z",
     "iopub.status.busy": "2021-11-17T17:27:20.949124Z",
     "iopub.status.idle": "2021-11-17T17:27:20.959326Z",
     "shell.execute_reply": "2021-11-17T17:27:20.958561Z",
     "shell.execute_reply.started": "2021-11-17T17:27:20.949528Z"
    },
    "jupyter": {
     "outputs_hidden": false
    }
   },
   "outputs": [],
   "source": [
    "#preds2=model1.predict(x_test)"
   ]
  },
  {
   "cell_type": "code",
   "execution_count": 70,
   "metadata": {
    "_cell_guid": "8de27008-9d1e-4f01-afce-806e64d32f3b",
    "_uuid": "74e56480-cbc3-4ec6-9cb1-2f97fd641d31",
    "execution": {
     "iopub.execute_input": "2021-11-17T17:27:20.960780Z",
     "iopub.status.busy": "2021-11-17T17:27:20.960383Z",
     "iopub.status.idle": "2021-11-17T17:27:20.970777Z",
     "shell.execute_reply": "2021-11-17T17:27:20.970050Z",
     "shell.execute_reply.started": "2021-11-17T17:27:20.960745Z"
    },
    "jupyter": {
     "outputs_hidden": false
    }
   },
   "outputs": [],
   "source": [
    "#sns.distplot(preds2-y_test)"
   ]
  },
  {
   "cell_type": "code",
   "execution_count": 71,
   "metadata": {
    "_cell_guid": "0783f45f-2c2c-477d-a13c-d524b0c49f4a",
    "_uuid": "fd91a2da-337f-42f3-bfc1-4242855a9c7f",
    "execution": {
     "iopub.execute_input": "2021-11-17T17:27:20.972193Z",
     "iopub.status.busy": "2021-11-17T17:27:20.971824Z",
     "iopub.status.idle": "2021-11-17T17:27:20.981896Z",
     "shell.execute_reply": "2021-11-17T17:27:20.981035Z",
     "shell.execute_reply.started": "2021-11-17T17:27:20.972165Z"
    },
    "jupyter": {
     "outputs_hidden": false
    }
   },
   "outputs": [],
   "source": [
    "#plt.scatter(preds2,y_test)"
   ]
  },
  {
   "cell_type": "code",
   "execution_count": 72,
   "metadata": {
    "_cell_guid": "59b9c6b6-39b9-44f6-ad41-e47e7f622e36",
    "_uuid": "8dd09985-a67a-4922-9adb-110a04b57f21",
    "execution": {
     "iopub.execute_input": "2021-11-17T17:27:20.983466Z",
     "iopub.status.busy": "2021-11-17T17:27:20.983045Z",
     "iopub.status.idle": "2021-11-17T17:27:20.991740Z",
     "shell.execute_reply": "2021-11-17T17:27:20.990906Z",
     "shell.execute_reply.started": "2021-11-17T17:27:20.983437Z"
    },
    "jupyter": {
     "outputs_hidden": false
    }
   },
   "outputs": [],
   "source": [
    "#from sklearn import metrics\n",
    "#print('MAE:', metrics.mean_absolute_error(y_test, preds2))\n",
    "#print('MSE:', metrics.mean_squared_error(y_test, preds2))\n",
    "#print('RMSE:', np.sqrt(metrics.mean_squared_error(y_test, preds2)))"
   ]
  },
  {
   "cell_type": "code",
   "execution_count": 76,
   "metadata": {
    "_cell_guid": "ca0e0e42-664e-4660-85ee-d2db4e18a5bf",
    "_uuid": "4b4285c4-4b31-4469-824c-29f68403933c",
    "execution": {
     "iopub.execute_input": "2021-11-17T17:27:20.993162Z",
     "iopub.status.busy": "2021-11-17T17:27:20.992779Z",
     "iopub.status.idle": "2021-11-17T17:27:21.007460Z",
     "shell.execute_reply": "2021-11-17T17:27:21.006744Z",
     "shell.execute_reply.started": "2021-11-17T17:27:20.993124Z"
    },
    "jupyter": {
     "outputs_hidden": false
    }
   },
   "outputs": [],
   "source": [
    "lr = LinearRegression()\n",
    "rfc = ensemble.RandomForestRegressor(n_estimators=400, bootstrap=True, min_samples_leaf=100, min_samples_split=8, max_depth=6)\n",
    "ada = ensemble.AdaBoostRegressor(n_estimators=1000, learning_rate=0.01)\n",
    "gbr = ensemble.GradientBoostingRegressor(learning_rate=0.01, n_estimators=1000, max_depth=5, min_samples_split=8, min_samples_leaf=100)\n",
    "xgb = XGBRFRegressor(n_jobs=-1, n_estimators=1000, max_depth=5)\n",
    "#cat = CatBoostRegressor(verbose=0)\n",
    "dtr = DecisionTreeRegressor(max_depth=15, min_samples_leaf=100)\n",
    "#lgbr = LGBMRegressor(n_estimators = 440, learning_rate=0.01, max_depth=12, objective='tweedie', num_leaves=15, num_threads = 4)\n",
    "#ngb = NGBRegressor(minibatch_frac=0.5, col_sample=0.5, Base=dtr)\n",
    "knn = KNeighborsRegressor()\n",
    "\n",
    "mlp = MLPRegressor()\n",
    "\n",
    "svr = SVR(kernel='linear', C=10, gamma='scale')"
   ]
  },
  {
   "cell_type": "code",
   "execution_count": 77,
   "metadata": {
    "_cell_guid": "5f96c63c-c214-4af4-843e-41c8f18eacb2",
    "_uuid": "4c7488e6-976a-4753-81dc-026160ba7c68",
    "execution": {
     "iopub.execute_input": "2021-11-17T17:27:21.008847Z",
     "iopub.status.busy": "2021-11-17T17:27:21.008428Z",
     "iopub.status.idle": "2021-11-17T17:27:21.022690Z",
     "shell.execute_reply": "2021-11-17T17:27:21.021843Z",
     "shell.execute_reply.started": "2021-11-17T17:27:21.008818Z"
    },
    "jupyter": {
     "outputs_hidden": false
    }
   },
   "outputs": [],
   "source": [
    "accuracy = {}\n",
    "rmse = {}\n",
    "explained_variance = {}\n",
    "max_error = {}\n",
    "MAE = {}\n",
    "\n",
    "def train_model(model, model_name):\n",
    "    print(model_name)\n",
    "    model.fit(x_train,y_train)\n",
    "    pred = model.predict(x_test)\n",
    "\n",
    "    acc = metrics.r2_score(y_test, pred)*100\n",
    "    accuracy[model_name] = acc\n",
    "    print('R2_Score',acc)\n",
    "\n",
    "    met = np.sqrt(metrics.mean_squared_error(y_test, pred))\n",
    "    print('RMSE : ', met)\n",
    "    rmse[model_name] = met\n",
    "\n",
    "    var = (metrics.explained_variance_score(y_test, pred))\n",
    "    print('Explained_Variance : ', var)\n",
    "    explained_variance[model_name] = var\n",
    "\n",
    "    error = (metrics.max_error(y_test, pred))\n",
    "    print('Max_Error : ', error)\n",
    "    max_error[model_name] = error\n",
    "    \n",
    "    err = metrics.mean_absolute_error(y_test, pred)\n",
    "    print(\"Mean Absolute Error\", err)\n",
    "    MAE[model_name] = err"
   ]
  },
  {
   "cell_type": "code",
   "execution_count": 78,
   "metadata": {
    "_cell_guid": "eb6f6f32-2fdb-4138-aaf0-dc19536e3132",
    "_uuid": "e930e4f2-0fc3-42ff-b263-b01171c44a79",
    "execution": {
     "iopub.execute_input": "2021-11-17T17:27:21.024131Z",
     "iopub.status.busy": "2021-11-17T17:27:21.023691Z",
     "iopub.status.idle": "2021-11-17T17:27:21.980665Z",
     "shell.execute_reply": "2021-11-17T17:27:21.979675Z",
     "shell.execute_reply.started": "2021-11-17T17:27:21.024101Z"
    },
    "jupyter": {
     "outputs_hidden": false
    }
   },
   "outputs": [
    {
     "name": "stdout",
     "output_type": "stream",
     "text": [
      "Random Forest Regression\n",
      "R2_Score 34.973805495812094\n",
      "RMSE :  1368.393901081933\n",
      "Explained_Variance :  0.350304722866146\n",
      "Max_Error :  9179.752230293312\n",
      "Mean Absolute Error 1010.0972418006863\n"
     ]
    }
   ],
   "source": [
    "train_model(rfc, \"Random Forest Regression\")"
   ]
  },
  {
   "cell_type": "code",
   "execution_count": 80,
   "metadata": {
    "_cell_guid": "a9d19a83-4116-411d-b9ed-c3acbb5228fe",
    "_uuid": "0731de20-7160-40e7-98b5-098eee520a12",
    "execution": {
     "iopub.execute_input": "2021-11-17T17:27:21.982172Z",
     "iopub.status.busy": "2021-11-17T17:27:21.981909Z",
     "iopub.status.idle": "2021-11-17T17:27:22.343526Z",
     "shell.execute_reply": "2021-11-17T17:27:22.342544Z",
     "shell.execute_reply.started": "2021-11-17T17:27:21.982145Z"
    },
    "jupyter": {
     "outputs_hidden": false
    }
   },
   "outputs": [],
   "source": [
    "#train_model(lgbr, \"LightGBM Regression\")"
   ]
  },
  {
   "cell_type": "code",
   "execution_count": 81,
   "metadata": {
    "_cell_guid": "718ffd4c-f48a-40a4-8e3f-1c85e0123e40",
    "_uuid": "6b22bf35-bafa-4feb-b8da-ca6bbea4d12a",
    "execution": {
     "iopub.execute_input": "2021-11-17T17:27:22.348450Z",
     "iopub.status.busy": "2021-11-17T17:27:22.347957Z",
     "iopub.status.idle": "2021-11-17T17:27:22.361586Z",
     "shell.execute_reply": "2021-11-17T17:27:22.360916Z",
     "shell.execute_reply.started": "2021-11-17T17:27:22.348416Z"
    },
    "jupyter": {
     "outputs_hidden": false
    }
   },
   "outputs": [
    {
     "name": "stdout",
     "output_type": "stream",
     "text": [
      "Decision Tree Regression\n",
      "R2_Score 52.3083190920797\n",
      "RMSE :  1171.8938503931117\n",
      "Explained_Variance :  0.5237805442345845\n",
      "Max_Error :  8378.25266990291\n",
      "Mean Absolute Error 820.731900034245\n"
     ]
    }
   ],
   "source": [
    "train_model(dtr, \"Decision Tree Regression\")"
   ]
  },
  {
   "cell_type": "code",
   "execution_count": 83,
   "metadata": {
    "_cell_guid": "c368bb1b-e7a3-441f-8a6a-b0043d778024",
    "_uuid": "1efa2025-82b1-4acd-ac29-1f4629ec82a0",
    "execution": {
     "iopub.execute_input": "2021-11-17T17:27:22.363324Z",
     "iopub.status.busy": "2021-11-17T17:27:22.362815Z",
     "iopub.status.idle": "2021-11-17T17:27:23.507983Z",
     "shell.execute_reply": "2021-11-17T17:27:23.506855Z",
     "shell.execute_reply.started": "2021-11-17T17:27:22.363294Z"
    },
    "jupyter": {
     "outputs_hidden": false
    }
   },
   "outputs": [],
   "source": [
    "#train_model(cat, \"Cat boost Regression\")"
   ]
  },
  {
   "cell_type": "code",
   "execution_count": 84,
   "metadata": {
    "_cell_guid": "758b9219-3eb4-4f15-b899-12de4e89ab45",
    "_uuid": "84a905ac-2b23-413e-b827-0adda077afdf",
    "execution": {
     "iopub.execute_input": "2021-11-17T17:27:23.509440Z",
     "iopub.status.busy": "2021-11-17T17:27:23.509174Z",
     "iopub.status.idle": "2021-11-17T17:27:24.667596Z",
     "shell.execute_reply": "2021-11-17T17:27:24.666591Z",
     "shell.execute_reply.started": "2021-11-17T17:27:23.509414Z"
    },
    "jupyter": {
     "outputs_hidden": false
    }
   },
   "outputs": [
    {
     "name": "stdout",
     "output_type": "stream",
     "text": [
      "XGB Regression\n",
      "R2_Score 59.54426592885805\n",
      "RMSE :  1079.3368468332576\n",
      "Explained_Variance :  0.5966683291166408\n",
      "Max_Error :  7011.00776875\n",
      "Mean Absolute Error 760.5594752251076\n"
     ]
    }
   ],
   "source": [
    "train_model(xgb, \"XGB Regression\")"
   ]
  },
  {
   "cell_type": "code",
   "execution_count": 85,
   "metadata": {
    "_cell_guid": "86ae241a-ee09-4ccf-8c5f-b161524fd67e",
    "_uuid": "ea48746f-9289-4623-ad19-0b23a8936fa1",
    "execution": {
     "iopub.execute_input": "2021-11-17T17:27:24.669639Z",
     "iopub.status.busy": "2021-11-17T17:27:24.669238Z",
     "iopub.status.idle": "2021-11-17T17:27:26.775449Z",
     "shell.execute_reply": "2021-11-17T17:27:26.774414Z",
     "shell.execute_reply.started": "2021-11-17T17:27:24.669597Z"
    },
    "jupyter": {
     "outputs_hidden": false
    }
   },
   "outputs": [
    {
     "name": "stdout",
     "output_type": "stream",
     "text": [
      "mlp\n",
      "R2_Score 34.78265691052508\n",
      "RMSE :  1370.4036651429676\n",
      "Explained_Variance :  0.3496654925882251\n",
      "Max_Error :  9262.367482492518\n",
      "Mean Absolute Error 1010.7762208997341\n"
     ]
    },
    {
     "name": "stderr",
     "output_type": "stream",
     "text": [
      "C:\\Users\\new\\anaconda3\\lib\\site-packages\\sklearn\\neural_network\\_multilayer_perceptron.py:614: ConvergenceWarning: Stochastic Optimizer: Maximum iterations (200) reached and the optimization hasn't converged yet.\n",
      "  warnings.warn(\n"
     ]
    }
   ],
   "source": [
    "train_model(mlp, \"mlp\")"
   ]
  },
  {
   "cell_type": "code",
   "execution_count": 86,
   "metadata": {
    "_cell_guid": "7315a820-e55c-4627-a175-54e399eba2f1",
    "_uuid": "69d92251-aaaa-4c06-92df-2ed8ae2295ef",
    "execution": {
     "iopub.execute_input": "2021-11-17T17:27:26.778029Z",
     "iopub.status.busy": "2021-11-17T17:27:26.777250Z",
     "iopub.status.idle": "2021-11-17T17:27:29.180827Z",
     "shell.execute_reply": "2021-11-17T17:27:29.180016Z",
     "shell.execute_reply.started": "2021-11-17T17:27:26.777973Z"
    },
    "jupyter": {
     "outputs_hidden": false
    }
   },
   "outputs": [
    {
     "name": "stdout",
     "output_type": "stream",
     "text": [
      "gbr\n",
      "R2_Score 58.72440599206505\n",
      "RMSE :  1090.2186987643363\n",
      "Explained_Variance :  0.5881016959773502\n",
      "Max_Error :  7497.332577686152\n",
      "Mean Absolute Error 768.7184409734707\n"
     ]
    }
   ],
   "source": [
    "train_model(gbr, \"gbr\")"
   ]
  },
  {
   "cell_type": "code",
   "execution_count": 87,
   "metadata": {
    "_cell_guid": "4aa5031d-6815-4f52-be91-971dcf6d6c98",
    "_uuid": "d6c4952c-0f8f-4da6-9005-544a71c73e74",
    "execution": {
     "iopub.execute_input": "2021-11-17T17:27:29.182264Z",
     "iopub.status.busy": "2021-11-17T17:27:29.181865Z",
     "iopub.status.idle": "2021-11-17T17:27:32.936093Z",
     "shell.execute_reply": "2021-11-17T17:27:32.935084Z",
     "shell.execute_reply.started": "2021-11-17T17:27:29.182224Z"
    },
    "jupyter": {
     "outputs_hidden": false
    }
   },
   "outputs": [
    {
     "name": "stdout",
     "output_type": "stream",
     "text": [
      "ada\n",
      "R2_Score 56.47298600899104\n",
      "RMSE :  1119.557485402499\n",
      "Explained_Variance :  0.5734083803194092\n",
      "Max_Error :  6968.153353424657\n",
      "Mean Absolute Error 824.6749422732184\n"
     ]
    }
   ],
   "source": [
    "train_model(ada, \"ada\")"
   ]
  },
  {
   "cell_type": "code",
   "execution_count": 88,
   "metadata": {
    "execution": {
     "iopub.execute_input": "2021-11-17T17:40:47.332981Z",
     "iopub.status.busy": "2021-11-17T17:40:47.332602Z",
     "iopub.status.idle": "2021-11-17T17:40:47.476822Z",
     "shell.execute_reply": "2021-11-17T17:40:47.475827Z",
     "shell.execute_reply.started": "2021-11-17T17:40:47.332948Z"
    }
   },
   "outputs": [],
   "source": [
    "import pickle\n",
    "# open a file, where you ant to store the data\n",
    "file = open('model2.pkl', 'wb')\n",
    "\n",
    "# dump information to that file\n",
    "pickle.dump(xgb, file)"
   ]
  }
 ],
 "metadata": {
  "kernelspec": {
   "display_name": "Python 3",
   "language": "python",
   "name": "python3"
  },
  "language_info": {
   "codemirror_mode": {
    "name": "ipython",
    "version": 3
   },
   "file_extension": ".py",
   "mimetype": "text/x-python",
   "name": "python",
   "nbconvert_exporter": "python",
   "pygments_lexer": "ipython3",
   "version": "3.8.8"
  }
 },
 "nbformat": 4,
 "nbformat_minor": 4
}
